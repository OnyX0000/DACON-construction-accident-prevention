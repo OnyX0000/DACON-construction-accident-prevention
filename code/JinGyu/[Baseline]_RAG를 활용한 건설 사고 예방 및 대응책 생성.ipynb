{
 "cells": [
  {
   "cell_type": "markdown",
   "id": "e50eee59-b527-44e0-afa8-7e4ee190affb",
   "metadata": {},
   "source": [
    "# Import"
   ]
  },
  {
   "cell_type": "code",
   "execution_count": 1,
   "id": "493a074b-5e32-44c1-aee9-d378b1b37003",
   "metadata": {},
   "outputs": [],
   "source": [
    "import pandas as pd\n",
    "\n",
    "from langchain.embeddings import HuggingFaceEmbeddings\n",
    "from langchain.vectorstores import FAISS\n",
    "from langchain.prompts import PromptTemplate\n",
    "from langchain.chains import RetrievalQA\n",
    "from langchain.llms import HuggingFacePipeline\n",
    "\n",
    "from transformers import pipeline, AutoModelForCausalLM, AutoTokenizer, BitsAndBytesConfig\n",
    "import torch"
   ]
  },
  {
   "cell_type": "code",
   "execution_count": 17,
   "id": "eaebfb9b",
   "metadata": {},
   "outputs": [],
   "source": [
    "import os\n",
    "os.environ[\"CUDA_VISIBLE_DEVICES\"] = \"1\"  # 1번 GPU만 노출됨"
   ]
  },
  {
   "cell_type": "markdown",
   "id": "6e31b57f",
   "metadata": {},
   "source": [
    "# PDF 배분"
   ]
  },
  {
   "cell_type": "code",
   "execution_count": null,
   "id": "29817a9a",
   "metadata": {},
   "outputs": [],
   "source": [
    "import os\n",
    "import shutil\n",
    "\n",
    "def distribute_pdfs(source_dir, target_base_dir, target_folders):\n",
    "    # PDF 파일 목록 가져오기\n",
    "    pdf_files = [f for f in os.listdir(source_dir) if f.endswith(\".pdf\")]\n",
    "    pdf_files.sort()  # 정렬하여 일관된 배분 유지\n",
    "    \n",
    "    # 대상 폴더 생성\n",
    "    target_dirs = [os.path.join(target_base_dir, folder) for folder in target_folders]\n",
    "    for directory in target_dirs:\n",
    "        os.makedirs(directory, exist_ok=True)\n",
    "    \n",
    "    # 파일을 순차적으로 배분 (정확한 개수 유지)\n",
    "    for i, pdf in enumerate(pdf_files):\n",
    "        target_folder = target_dirs[i % len(target_folders)]  # 순환할당\n",
    "        source_path = os.path.join(source_dir, pdf)\n",
    "        target_path = os.path.join(target_folder, pdf)\n",
    "        shutil.copy2(source_path, target_path)  # 복사 방식 사용\n",
    "        print(f\"Copied {pdf} -> {target_folder}\")\n",
    "\n",
    "# 설정\n",
    "source_directory = \"/home/wanted-1/potenup-workspace/Project/dacon/DACON-construction-accident-prevention/data/pdf\"\n",
    "target_base_directory = \"/home/wanted-1/potenup-workspace/Project/dacon/DACON-construction-accident-prevention/code\"\n",
    "target_folders = [\"JaeSik\", \"JiMin\", \"JinGyu\", \"SangGyeom\"]\n",
    "\n",
    "distribute_pdfs(source_directory, target_base_directory, target_folders)"
   ]
  },
  {
   "cell_type": "markdown",
   "id": "37f4223e-111b-49a8-a716-5f98caacf12f",
   "metadata": {},
   "source": [
    "# Data Load & Pre-processing"
   ]
  },
  {
   "cell_type": "code",
   "execution_count": 2,
   "id": "f871264a-ecd6-430d-ab1f-8edad746bd14",
   "metadata": {},
   "outputs": [],
   "source": [
    "train = pd.read_csv('../../data/ref_train.csv', encoding = 'utf-8-sig')\n",
    "test = pd.read_csv('../../data/test.csv', encoding = 'utf-8-sig')"
   ]
  },
  {
   "cell_type": "code",
   "execution_count": 3,
   "id": "5dcc0921-e9a7-407a-a070-148abb06aca5",
   "metadata": {},
   "outputs": [],
   "source": [
    "# 데이터 전처리\n",
    "train['공사종류(대분류)'] = train['공사종류'].str.split(' / ').str[0]\n",
    "train['공사종류(중분류)'] = train['공사종류'].str.split(' / ').str[1]\n",
    "train['공종(대분류)'] = train['공종'].str.split(' > ').str[0]\n",
    "train['공종(중분류)'] = train['공종'].str.split(' > ').str[1]\n",
    "train['사고객체(대분류)'] = train['사고객체'].str.split(' > ').str[0]\n",
    "train['사고객체(중분류)'] = train['사고객체'].str.split(' > ').str[1]\n",
    "\n",
    "test['공사종류(대분류)'] = test['공사종류'].str.split(' / ').str[0]\n",
    "test['공사종류(중분류)'] = test['공사종류'].str.split(' / ').str[1]\n",
    "test['공종(대분류)'] = test['공종'].str.split(' > ').str[0]\n",
    "test['공종(중분류)'] = test['공종'].str.split(' > ').str[1]\n",
    "test['사고객체(대분류)'] = test['사고객체'].str.split(' > ').str[0]\n",
    "test['사고객체(중분류)'] = test['사고객체'].str.split(' > ').str[1]"
   ]
  },
  {
   "cell_type": "code",
   "execution_count": 4,
   "id": "90e51bca-0c93-4412-9634-9f86ea9a36ef",
   "metadata": {},
   "outputs": [],
   "source": [
    "# 훈련 데이터 통합 생성\n",
    "combined_training_data = train.apply(\n",
    "    lambda row: {\n",
    "        \"question\": (\n",
    "            f\"공사종류 대분류 '{row['공사종류(대분류)']}', 중분류 '{row['공사종류(중분류)']}' 공사 중 \"\n",
    "            f\"공종 대분류 '{row['공종(대분류)']}', 중분류 '{row['공종(중분류)']}' 작업에서 \"\n",
    "            f\"사고객체 '{row['사고객체(대분류)']}'(중분류: '{row['사고객체(중분류)']}')와 관련된 사고가 발생했습니다. \"\n",
    "            f\"작업 프로세스는 '{row['작업프로세스']}'이며, 사고 원인은 '{row['사고원인']}'입니다. \"\n",
    "            f\"재발 방지 대책 및 향후 조치 계획은 무엇인가요?\"\n",
    "        ),\n",
    "        \"answer\": row[\"재발방지대책 및 향후조치계획\"]\n",
    "    },\n",
    "    axis=1\n",
    ")\n",
    "\n",
    "# DataFrame으로 변환\n",
    "combined_training_data = pd.DataFrame(list(combined_training_data))"
   ]
  },
  {
   "cell_type": "code",
   "execution_count": 5,
   "id": "cbf53249-8aae-4308-a476-4200814da53d",
   "metadata": {
    "scrolled": true
   },
   "outputs": [],
   "source": [
    "# 테스트 데이터 통합 생성\n",
    "combined_test_data = test.apply(\n",
    "    lambda row: {\n",
    "        \"question\": (\n",
    "            f\"공사종류 대분류 '{row['공사종류(대분류)']}', 중분류 '{row['공사종류(중분류)']}' 공사 중 \"\n",
    "            f\"공종 대분류 '{row['공종(대분류)']}', 중분류 '{row['공종(중분류)']}' 작업에서 \"\n",
    "            f\"사고객체 '{row['사고객체(대분류)']}'(중분류: '{row['사고객체(중분류)']}')와 관련된 사고가 발생했습니다. \"\n",
    "            f\"작업 프로세스는 '{row['작업프로세스']}'이며, 사고 원인은 '{row['사고원인']}'입니다. \"\n",
    "            f\"재발 방지 대책 및 향후 조치 계획은 무엇인가요?\"\n",
    "        )\n",
    "    },\n",
    "    axis=1\n",
    ")\n",
    "\n",
    "# DataFrame으로 변환\n",
    "combined_test_data = pd.DataFrame(list(combined_test_data))"
   ]
  },
  {
   "cell_type": "markdown",
   "id": "45bea209-6521-4974-a785-c2faf5af427c",
   "metadata": {},
   "source": [
    "# Model import"
   ]
  },
  {
   "cell_type": "code",
   "execution_count": 6,
   "id": "b3b1d4ec-a335-4a3e-803e-1ee0a8e8b482",
   "metadata": {},
   "outputs": [],
   "source": [
    "bnb_config = BitsAndBytesConfig(\n",
    "    load_in_4bit=True,\n",
    "    bnb_4bit_use_double_quant=True,\n",
    "    bnb_4bit_quant_type=\"nf4\",\n",
    "    bnb_4bit_compute_dtype=torch.bfloat16   \n",
    ")"
   ]
  },
  {
   "cell_type": "code",
   "execution_count": 7,
   "id": "3fd9f2e5-4293-48b1-9c8a-347cf500b257",
   "metadata": {},
   "outputs": [
    {
     "data": {
      "application/vnd.jupyter.widget-view+json": {
       "model_id": "77cd8452be174b4aa755813671f7a18c",
       "version_major": 2,
       "version_minor": 0
      },
      "text/plain": [
       "Loading checkpoint shards:   0%|          | 0/4 [00:00<?, ?it/s]"
      ]
     },
     "metadata": {},
     "output_type": "display_data"
    }
   ],
   "source": [
    "model_id = \"NCSOFT/Llama-VARCO-8B-Instruct\"\n",
    "\n",
    "tokenizer = AutoTokenizer.from_pretrained(model_id)\n",
    "model = AutoModelForCausalLM.from_pretrained(model_id, quantization_config=bnb_config, device_map=\"auto\")"
   ]
  },
  {
   "cell_type": "markdown",
   "id": "021ff667",
   "metadata": {},
   "source": [
    "# Vector store 생성"
   ]
  },
  {
   "cell_type": "code",
   "execution_count": 9,
   "id": "b79104ee",
   "metadata": {},
   "outputs": [
    {
     "data": {
      "text/html": [
       "<div>\n",
       "<style scoped>\n",
       "    .dataframe tbody tr th:only-of-type {\n",
       "        vertical-align: middle;\n",
       "    }\n",
       "\n",
       "    .dataframe tbody tr th {\n",
       "        vertical-align: top;\n",
       "    }\n",
       "\n",
       "    .dataframe thead th {\n",
       "        text-align: right;\n",
       "    }\n",
       "</style>\n",
       "<table border=\"1\" class=\"dataframe\">\n",
       "  <thead>\n",
       "    <tr style=\"text-align: right;\">\n",
       "      <th></th>\n",
       "      <th>question</th>\n",
       "      <th>answer</th>\n",
       "    </tr>\n",
       "  </thead>\n",
       "  <tbody>\n",
       "    <tr>\n",
       "      <th>0</th>\n",
       "      <td>공사종류 대분류 '건축', 중분류 '건축물' 공사 중 공종 대분류 '건축', 중분류...</td>\n",
       "      <td>고소작업 시 추락 위험이 있는 부위에 안전장비 설치.</td>\n",
       "    </tr>\n",
       "    <tr>\n",
       "      <th>1</th>\n",
       "      <td>공사종류 대분류 '토목', 중분류 '터널' 공사 중 공종 대분류 '토목', 중분류 ...</td>\n",
       "      <td>재발 방지 대책 마련과 안전교육 실시.</td>\n",
       "    </tr>\n",
       "    <tr>\n",
       "      <th>2</th>\n",
       "      <td>공사종류 대분류 '건축', 중분류 '건축물' 공사 중 공종 대분류 '건축', 중분류...</td>\n",
       "      <td>현장자재 정리와 안전관리 철저를 통한 재발 방지 대책 및 공문 발송을 통한 향후 조...</td>\n",
       "    </tr>\n",
       "    <tr>\n",
       "      <th>3</th>\n",
       "      <td>공사종류 대분류 '토목', 중분류 '하천' 공사 중 공종 대분류 '토목', 중분류 ...</td>\n",
       "      <td>위험성 평가 및 교육을 통해 작업장 내 위험요인과 안전수칙을 근로자에게 전파하고, ...</td>\n",
       "    </tr>\n",
       "    <tr>\n",
       "      <th>4</th>\n",
       "      <td>공사종류 대분류 '건축', 중분류 '건축물' 공사 중 공종 대분류 '건축', 중분류...</td>\n",
       "      <td>자재 정리 작업 시 세부 작업 방법에 대한 교육 실시와 작업 구간 이동 경로 점검 ...</td>\n",
       "    </tr>\n",
       "  </tbody>\n",
       "</table>\n",
       "</div>"
      ],
      "text/plain": [
       "                                            question  \\\n",
       "0  공사종류 대분류 '건축', 중분류 '건축물' 공사 중 공종 대분류 '건축', 중분류...   \n",
       "1  공사종류 대분류 '토목', 중분류 '터널' 공사 중 공종 대분류 '토목', 중분류 ...   \n",
       "2  공사종류 대분류 '건축', 중분류 '건축물' 공사 중 공종 대분류 '건축', 중분류...   \n",
       "3  공사종류 대분류 '토목', 중분류 '하천' 공사 중 공종 대분류 '토목', 중분류 ...   \n",
       "4  공사종류 대분류 '건축', 중분류 '건축물' 공사 중 공종 대분류 '건축', 중분류...   \n",
       "\n",
       "                                              answer  \n",
       "0                      고소작업 시 추락 위험이 있는 부위에 안전장비 설치.  \n",
       "1                              재발 방지 대책 마련과 안전교육 실시.  \n",
       "2  현장자재 정리와 안전관리 철저를 통한 재발 방지 대책 및 공문 발송을 통한 향후 조...  \n",
       "3  위험성 평가 및 교육을 통해 작업장 내 위험요인과 안전수칙을 근로자에게 전파하고, ...  \n",
       "4  자재 정리 작업 시 세부 작업 방법에 대한 교육 실시와 작업 구간 이동 경로 점검 ...  "
      ]
     },
     "execution_count": 9,
     "metadata": {},
     "output_type": "execute_result"
    }
   ],
   "source": [
    "combined_training_data.head()"
   ]
  },
  {
   "cell_type": "code",
   "execution_count": null,
   "id": "b4b47aa1",
   "metadata": {},
   "outputs": [],
   "source": [
    "# Train 데이터 준비\n",
    "train_questions_prevention = combined_training_data['question'].tolist()\n",
    "train_answers_prevention = combined_training_data['answer'].tolist()\n",
    "\n",
    "train_documents = [\n",
    "    f\"Q: {q1}\\nA: {a1}\" \n",
    "    for q1, a1 in zip(train_questions_prevention, train_answers_prevention)\n",
    "]\n",
    "\n",
    "# 임베딩 생성\n",
    "embedding_model_name = \"jhgan/ko-sbert-nli\"  # 임베딩 모델 선택\n",
    "embedding = HuggingFaceEmbeddings(model_name=embedding_model_name)\n",
    "\n",
    "# 벡터 스토어에 문서 추가\n",
    "csv_vector_store = FAISS.from_texts(train_documents, embedding)"
   ]
  },
  {
   "cell_type": "code",
   "execution_count": 8,
   "id": "3d7b4aab",
   "metadata": {},
   "outputs": [],
   "source": [
    "from langchain_community.document_loaders import DirectoryLoader, PyMuPDFLoader\n",
    "from langchain.text_splitter import RecursiveCharacterTextSplitter\n",
    "\n",
    "loader = DirectoryLoader('../../data/pdf', glob = '*.pdf', loader_cls = PyMuPDFLoader)\n",
    "\n",
    "pdf_docs = loader.load()\n",
    "\n",
    "# 문서 분할 (Chunking) 수행\n",
    "text_splitter = RecursiveCharacterTextSplitter(\n",
    "    chunk_size=256, chunk_overlap=50, length_function=len, separators = ['\\n\\n', '\\n', '.', ' ']\n",
    ")\n",
    "split_pdf_docs = text_splitter.split_documents(pdf_docs)"
   ]
  },
  {
   "cell_type": "code",
   "execution_count": 9,
   "id": "b720090d",
   "metadata": {},
   "outputs": [
    {
     "data": {
      "text/plain": [
       "5211"
      ]
     },
     "execution_count": 9,
     "metadata": {},
     "output_type": "execute_result"
    }
   ],
   "source": [
    "len(split_pdf_docs)"
   ]
  },
  {
   "cell_type": "code",
   "execution_count": null,
   "id": "1b895f09",
   "metadata": {},
   "outputs": [],
   "source": [
    "from langchain.text_splitter import RecursiveCharacterTextSplitter\n",
    "from langchain.document_loaders import PyPDFLoader\n",
    "import os\n",
    "import pandas as pd\n",
    "\n",
    "### 🔹 2️⃣ PDF 데이터 처리 및 Vector Store 저장\n",
    "def load_pdfs_from_folder(pdf_folder):\n",
    "    \"\"\"폴더 내 모든 PDF 문서를 LangChain을 통해 로드\"\"\"\n",
    "    pdf_documents = []\n",
    "    \n",
    "    for pdf_file in os.listdir(pdf_folder):\n",
    "        if pdf_file.endswith(\".pdf\"):\n",
    "            pdf_path = os.path.join(pdf_folder, pdf_file)\n",
    "            loader = PyPDFLoader(pdf_path)  # LangChain PDF 로더\n",
    "            pdf_documents.extend(loader.load())  # 문서 추가\n",
    "\n",
    "    return pdf_documents\n",
    "\n",
    "# PDF 데이터 로드\n",
    "pdf_folder_path = \"../../data/건설안전지침\"\n",
    "pdf_docs = load_pdfs_from_folder(pdf_folder_path)\n",
    "\n",
    "# 문서 분할 (Chunking) 수행\n",
    "text_splitter = RecursiveCharacterTextSplitter(\n",
    "    chunk_size=256, chunk_overlap=50, length_function=len\n",
    ")\n",
    "split_pdf_docs = text_splitter.split_documents(pdf_docs)\n",
    "\n",
    "# PDF 데이터를 벡터화하여 FAISS 저장소 생성\n",
    "pdf_vector_store = FAISS.from_documents(split_pdf_docs, embedding)"
   ]
  },
  {
   "cell_type": "markdown",
   "id": "2533fc9f",
   "metadata": {},
   "source": [
    "# RAG chain 생성"
   ]
  },
  {
   "cell_type": "code",
   "execution_count": null,
   "id": "371d4e9e-fd99-4157-abab-a367a24fa269",
   "metadata": {},
   "outputs": [
    {
     "name": "stderr",
     "output_type": "stream",
     "text": [
      "Device set to use cuda:0\n"
     ]
    }
   ],
   "source": [
    "from langchain.schema import Document\n",
    "from langchain.retrievers import EnsembleRetriever\n",
    "\n",
    "text_generation_pipeline = pipeline(\n",
    "    model=model,\n",
    "    tokenizer=tokenizer,\n",
    "    task=\"text-generation\",\n",
    "    do_sample=True,  # sampling 활성화\n",
    "    temperature=0.1,\n",
    "    return_full_text=False,\n",
    "    max_new_tokens=64,\n",
    ")\n",
    "\n",
    "prompt_template = \"\"\"\n",
    "### 지침: 당신은 건설 안전 전문가입니다.\n",
    "질문에 대한 답변을 핵심 내용만 요약하여 간략하게 작성하세요.\n",
    "- 서론, 배경 설명 또는 추가 설명을 절대 포함하지 마세요.\n",
    "- 다음과 같은 조치를 취할 것을 제안합니다: 와 같은 내용을 포함하지 마세요.\n",
    "\n",
    "{context}\n",
    "\n",
    "### 질문:\n",
    "{question}\n",
    "\n",
    "[/INST]\n",
    "\n",
    "\"\"\"\n",
    "\n",
    "llm = HuggingFacePipeline(pipeline=text_generation_pipeline)\n",
    "\n",
    "# 커스텀 프롬프트 생성\n",
    "prompt = PromptTemplate(\n",
    "    input_variables=[\"context\", \"question\"],\n",
    "    template=prompt_template,\n",
    ")\n",
    "\n",
    "# CSV 및 PDF retriever를 결합\n",
    "ensemble_retriever = EnsembleRetriever(\n",
    "    retrievers=[csv_vector_store.as_retriever(search_type=\"similarity\", search_kwargs={\"k\": 5}), pdf_vector_store.as_retriever(search_type=\"similarity\", search_kwargs={\"k\": 5})],\n",
    "    weights=[0.5, 0.5]  # CSV와 PDF 검색 결과를 동일한 가중치로 조합\n",
    ")\n",
    "\n",
    "# RAG 체인 생성\n",
    "qa_chain = RetrievalQA.from_chain_type(\n",
    "    llm=llm,  \n",
    "    chain_type=\"stuff\",  # 단순 컨텍스트 결합 방식 사용\n",
    "    retriever=ensemble_retriever,     # 2개의 저장소에서 검색\n",
    "    return_source_documents=True,\n",
    "    chain_type_kwargs={\"prompt\": prompt}  # 커스텀 프롬프트 적용\n",
    ")"
   ]
  },
  {
   "cell_type": "markdown",
   "id": "7b0b3640-3968-4c2b-a7d4-30f586fadd66",
   "metadata": {},
   "source": [
    "# Inference"
   ]
  },
  {
   "cell_type": "code",
   "execution_count": 19,
   "id": "590331a4-75f0-4012-8f45-8f2652772c43",
   "metadata": {},
   "outputs": [
    {
     "name": "stdout",
     "output_type": "stream",
     "text": [
      "테스트 실행 시작... 총 테스트 샘플 수: 964\n",
      "\n",
      "[샘플 1/964] 진행 중...\n"
     ]
    },
    {
     "name": "stderr",
     "output_type": "stream",
     "text": [
      "You seem to be using the pipelines sequentially on GPU. In order to maximize efficiency please use a dataset\n"
     ]
    },
    {
     "name": "stdout",
     "output_type": "stream",
     "text": [
      "\n",
      "[샘플 50/964] 진행 중...\n",
      "\n",
      "[샘플 100/964] 진행 중...\n",
      "\n",
      "[샘플 150/964] 진행 중...\n",
      "\n",
      "[샘플 200/964] 진행 중...\n",
      "\n",
      "[샘플 250/964] 진행 중...\n",
      "\n",
      "[샘플 300/964] 진행 중...\n",
      "\n",
      "[샘플 350/964] 진행 중...\n",
      "\n",
      "[샘플 400/964] 진행 중...\n",
      "\n",
      "[샘플 450/964] 진행 중...\n",
      "\n",
      "[샘플 500/964] 진행 중...\n",
      "\n",
      "[샘플 550/964] 진행 중...\n",
      "\n",
      "[샘플 600/964] 진행 중...\n",
      "\n",
      "[샘플 650/964] 진행 중...\n",
      "\n",
      "[샘플 700/964] 진행 중...\n",
      "\n",
      "[샘플 750/964] 진행 중...\n",
      "\n",
      "[샘플 800/964] 진행 중...\n",
      "\n",
      "[샘플 850/964] 진행 중...\n",
      "\n",
      "[샘플 900/964] 진행 중...\n",
      "\n",
      "[샘플 950/964] 진행 중...\n",
      "\n",
      "테스트 실행 완료! 총 결과 수: 964\n"
     ]
    }
   ],
   "source": [
    "# 테스트 실행 및 결과 저장\n",
    "test_results = []\n",
    "\n",
    "print(\"테스트 실행 시작... 총 테스트 샘플 수:\", len(combined_test_data))\n",
    "\n",
    "for idx, row in combined_test_data.iterrows():\n",
    "    # 50개당 한 번 진행 상황 출력\n",
    "    if (idx + 1) % 50 == 0 or idx == 0:\n",
    "        print(f\"\\n[샘플 {idx + 1}/{len(combined_test_data)}] 진행 중...\")\n",
    "\n",
    "    # RAG 체인 호출 및 결과 생성\n",
    "    prevention_result = qa_chain.invoke(row['question'])\n",
    "\n",
    "    # 결과 저장\n",
    "    result_text = prevention_result['result']\n",
    "    test_results.append(result_text)\n",
    "\n",
    "print(\"\\n테스트 실행 완료! 총 결과 수:\", len(test_results))"
   ]
  },
  {
   "cell_type": "markdown",
   "id": "e9022911",
   "metadata": {},
   "source": [
    "# Submission"
   ]
  },
  {
   "cell_type": "code",
   "execution_count": 20,
   "id": "178e21c6",
   "metadata": {},
   "outputs": [
    {
     "name": "stdout",
     "output_type": "stream",
     "text": [
      "(964, 768)\n"
     ]
    }
   ],
   "source": [
    "from sentence_transformers import SentenceTransformer\n",
    "\n",
    "embedding_model_name = \"jhgan/ko-sbert-sts\"\n",
    "embedding = SentenceTransformer(embedding_model_name)\n",
    "\n",
    "# 문장 리스트를 입력하여 임베딩 생성\n",
    "pred_embeddings = embedding.encode(test_results)\n",
    "print(pred_embeddings.shape)  # (샘플 개수, 768)"
   ]
  },
  {
   "cell_type": "code",
   "execution_count": 23,
   "id": "ae869742-4a0b-45bc-8a50-e385b67a9030",
   "metadata": {},
   "outputs": [],
   "source": [
    "submission = pd.read_csv('../data/sample_submission.csv', encoding = 'utf-8-sig')\n",
    "\n",
    "# 최종 결과 저장\n",
    "submission.iloc[:,1] = test_results\n",
    "submission.iloc[:,2:] = pred_embeddings\n",
    "submission.head()\n",
    "\n",
    "# 최종 결과를 CSV로 저장\n",
    "submission.to_csv('baseline_submission.csv', index=False, encoding='utf-8-sig')"
   ]
  },
  {
   "cell_type": "code",
   "execution_count": 24,
   "id": "0d8ab918",
   "metadata": {},
   "outputs": [
    {
     "data": {
      "text/plain": [
       "0      ### 답변:\\n사고 원인 분석 결과 다음과 같은 재발 방지 대책을 마련할 것을 제...\n",
       "1      ### 답변:\\n1. 절단 및 가공 작업에 대한 사전 안전교육 강화\\n   - 작업...\n",
       "2      ### 답변:\\n사고 방지 및 재발 방지 대책으로는 다음과 같은 조치가 필요합니다:...\n",
       "3      ### 답변:\\n주어진 사고 원인에 대응하기 위해 다음과 같은 재발 방지 대책과 향...\n",
       "4      ### 답변:\\n사고 원인 분석 결과, 주된 원인은 점심식사를 위한 이동 시 작업자...\n",
       "                             ...                        \n",
       "959    ### 답변:\\n안전장비 착용의 철저성 검토와 안전 교육 강화, 석재의 품질 관리 ...\n",
       "960    ### 답변:\\n이 사고를 방지하기 위한 재발 방지 대책과 향후 조치 계획은 다음과...\n",
       "961    ### 답변:\\n1. 사고 원인 분석 및 보고: 사고 발생 원인을 철저히 분석하고 ...\n",
       "962    주어진 정보를 바탕으로 답변을 드리겠습니다.\\n\\nA: \\n사고 원인 분석 결과, ...\n",
       "963    ### 답변:\\n1. 각도절단기 사용 시 안전모 및 방호덮개 착용의 중요성에 대한 ...\n",
       "Name: 재발방지대책 및 향후조치계획, Length: 964, dtype: object"
      ]
     },
     "execution_count": 24,
     "metadata": {},
     "output_type": "execute_result"
    }
   ],
   "source": [
    "submission['재발방지대책 및 향후조치계획']"
   ]
  }
 ],
 "metadata": {
  "kernelspec": {
   "display_name": "env311_langchain",
   "language": "python",
   "name": "python3"
  },
  "language_info": {
   "codemirror_mode": {
    "name": "ipython",
    "version": 3
   },
   "file_extension": ".py",
   "mimetype": "text/x-python",
   "name": "python",
   "nbconvert_exporter": "python",
   "pygments_lexer": "ipython3",
   "version": "3.11.11"
  }
 },
 "nbformat": 4,
 "nbformat_minor": 5
}
