{
 "cells": [
  {
   "cell_type": "code",
   "execution_count": 4,
   "metadata": {},
   "outputs": [
    {
     "name": "stdout",
     "output_type": "stream",
     "text": [
      "                 ID                                           question\n",
      "33468   TRAIN_06702      운수시설 / 외부에서 설치작업 중 건설자재 > 자재로 인해 발생한 사고의 원인은?\n",
      "19482   TRAIN_03896   업무시설 / 외부에서 형틀 및 목공 중 건설자재 > 철근로 인해 발생한 사고의 원인은?\n",
      "34343   TRAIN_06878  2022-11-14 오전 11:50에 맑음 상태에서 10℃도, 습도 30%% 환경에...\n",
      "48275   TRAIN_09669   공동주택 / 외부에서 운반작업 중 건설기계 > 타워크레인로 인해 발생한 사고의 원인은?\n",
      "108585  TRAIN_21830                  사다리 작업 중 부주의으로 인해 발생한 사고의 예방 대책은?\n",
      "67537   TRAIN_13523  공동주택 / 내부에서 형틀 및 목공 중 건설공구 > 공구류로 인해 발생한 사고의 원인은?\n",
      "12543   TRAIN_02508      하수도 / 내부에서 굴착작업 중 기타 > 지하매설물로 인해 발생한 사고의 원인은?\n",
      "50490   TRAIN_10112     업무시설 / 내부에서 설치작업 중 가시설 > 작업발판로 인해 발생한 사고의 원인은?\n",
      "60819   TRAIN_12178      공동주택 / 내부에서 설치작업 중 건설자재 > 자재로 인해 발생한 사고의 원인은?\n",
      "35865   TRAIN_07182  지하주차장으로 자재를 하역중 타워크레인으로 자재를 받기위해 이동중 반출중인 톤마대에...\n"
     ]
    }
   ],
   "source": [
    "import pandas as pd\n",
    "import random\n",
    "\n",
    "# CSV 파일 로드\n",
    "file_path = \"../../data/train.csv\"  # 실제 파일 경로 지정\n",
    "df = pd.read_csv(file_path)\n",
    "\n",
    "# 📌 질문지 생성 함수\n",
    "def generate_questions(row):\n",
    "    questions = []\n",
    "\n",
    "    # 1️⃣ 사고 발생 상황 기반 질문\n",
    "    if pd.notna(row[\"발생일시\"]) and pd.notna(row[\"날씨\"]) and pd.notna(row[\"기온\"]) and pd.notna(row[\"습도\"]):\n",
    "        questions.append(\n",
    "            f\"{row['발생일시']}에 {row['날씨']} 상태에서 {row['기온']}도, 습도 {row['습도']}% 환경에서 발생한 사고의 원인은?\"\n",
    "        )\n",
    "\n",
    "    # 2️⃣ 공사 관련 질문\n",
    "    if pd.notna(row[\"공사종류\"]) and pd.notna(row[\"연면적\"]) and pd.notna(row[\"층 정보\"]):\n",
    "        questions.append(\n",
    "            f\"{row['공사종류']}에서 연면적 {row['연면적']}㎡, {row['층 정보']}층에서 발생한 사고의 원인은?\"\n",
    "        )\n",
    "\n",
    "    # 3️⃣ 사고 유형 기반 질문\n",
    "    if pd.notna(row[\"인적사고\"]) or pd.notna(row[\"물적사고\"]):\n",
    "        accident_desc = []\n",
    "        if pd.notna(row[\"인적사고\"]):\n",
    "            accident_desc.append(f\"인적사고({row['인적사고']})\")\n",
    "        if pd.notna(row[\"물적사고\"]):\n",
    "            accident_desc.append(f\"물적사고({row['물적사고']})\")\n",
    "        questions.append(\n",
    "            f\"{' 및 '.join(accident_desc)}가 발생한 사고에서의 대응 방안은?\"\n",
    "        )\n",
    "\n",
    "    # 4️⃣ 작업 프로세스 관련 질문\n",
    "    if pd.notna(row[\"작업프로세스\"]) and pd.notna(row[\"사고객체\"]) and pd.notna(row[\"장소\"]):\n",
    "        questions.append(\n",
    "            f\"{row['장소']}에서 {row['작업프로세스']} 중 {row['사고객체']}로 인해 발생한 사고의 원인은?\"\n",
    "        )\n",
    "\n",
    "    # 5️⃣ 사고원인 기반 질문\n",
    "    if pd.notna(row[\"사고원인\"]):\n",
    "        questions.append(\n",
    "            f\"{row['사고원인']}으로 인해 발생한 사고의 예방 대책은?\"\n",
    "        )\n",
    "\n",
    "    return questions\n",
    "\n",
    "# 📌 질문지 생성\n",
    "question_data = []\n",
    "for _, row in df.iterrows():\n",
    "    questions = generate_questions(row)\n",
    "    for question in questions:\n",
    "        question_data.append({\"ID\": row[\"ID\"], \"question\": question})\n",
    "\n",
    "# DataFrame 생성\n",
    "question_df = pd.DataFrame(question_data)\n",
    "\n",
    "# 📌 랜덤 샘플 10개 출력\n",
    "print(question_df.sample(10))\n",
    "\n",
    "# CSV로 저장 (추후 RAG 입력 데이터로 활용 가능)\n",
    "# output_path = \"data/generated_questions.csv\"\n",
    "# question_df.to_csv(output_path, index=False, encoding=\"utf-8-sig\")\n",
    "\n",
    "# print(f\"✅ 질문지 생성 완료 → {output_path}\")\n"
   ]
  },
  {
   "cell_type": "code",
   "execution_count": 2,
   "metadata": {},
   "outputs": [
    {
     "data": {
      "text/plain": [
       "{'1': '테스트 ', '2': '\\n\\n langchain이란? '}"
      ]
     },
     "execution_count": 2,
     "metadata": {},
     "output_type": "execute_result"
    }
   ],
   "source": [
    "text = '테스트 - 1 -\\n\\n langchain이란? - 2 -'\n",
    "\n",
    "def page_split(content):\n",
    "    '''page별로 쪼개버림'''\n",
    "    page_dict = {}\n",
    "    i = 0\n",
    "    while True:\n",
    "        i += 1\n",
    "        contents = content.split(f\"- {i} -\")\n",
    "        if len(contents) != 2:\n",
    "            break\n",
    "        page_dict[str(i)] = contents[0]\n",
    "        content = contents[1]\n",
    "    return page_dict\n",
    "\n",
    "page_split(text)"
   ]
  },
  {
   "cell_type": "code",
   "execution_count": 5,
   "metadata": {},
   "outputs": [
    {
     "name": "stdout",
     "output_type": "stream",
     "text": [
      "['테스트 ', '1', '\\n\\n langchain이란? ', '2', '']\n",
      "{'1': '테스트 ', '2': '\\n\\n langchain이란? '}\n"
     ]
    }
   ],
   "source": [
    "import re\n",
    "tmp = re.split(r\"-\\s(\\d+)\\s-\", text)\n",
    "print(tmp)\n",
    "result = {tmp[i]: tmp[i-1] for i in range(1, len(tmp)-1, 2)}\n",
    "print(result)"
   ]
  }
 ],
 "metadata": {
  "kernelspec": {
   "display_name": "lang_311",
   "language": "python",
   "name": "python3"
  },
  "language_info": {
   "codemirror_mode": {
    "name": "ipython",
    "version": 3
   },
   "file_extension": ".py",
   "mimetype": "text/x-python",
   "name": "python",
   "nbconvert_exporter": "python",
   "pygments_lexer": "ipython3",
   "version": "3.11.11"
  }
 },
 "nbformat": 4,
 "nbformat_minor": 2
}
