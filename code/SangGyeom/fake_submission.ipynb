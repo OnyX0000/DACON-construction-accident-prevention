{
 "cells": [
  {
   "cell_type": "code",
   "execution_count": 2,
   "metadata": {},
   "outputs": [
    {
     "name": "stdout",
     "output_type": "stream",
     "text": [
      "단일 문장 임베딩 생성 중...\n",
      "임베딩 생성 완료! Shape: (964, 768)\n",
      "테스트용 submission 파일 생성 완료 → ./fake_submission.csv\n"
     ]
    }
   ],
   "source": [
    "import pandas as pd\n",
    "from sentence_transformers import SentenceTransformer\n",
    "import numpy as np\n",
    "\n",
    "# 테스트 데이터 로드\n",
    "test_file = \"../../data/test.csv\"  # 실제 test.csv 경로 설정\n",
    "test_df = pd.read_csv(test_file)\n",
    "\n",
    "# 모든 정답을 동일한 문장으로 설정\n",
    "fixed_answer = \"작업자 안전교육 실시를 통한 재발 방지 대책 및 향후 조치 계획\"\n",
    "test_results = [fixed_answer] * len(test_df)\n",
    "\n",
    "# 1. 임베딩 생성 (한 번만 수행)\n",
    "print(\"단일 문장 임베딩 생성 중...\")\n",
    "\n",
    "embedding_model_name = \"jhgan/ko-sbert-sts\"\n",
    "embedding_model = SentenceTransformer(embedding_model_name)\n",
    "\n",
    "# 단일 문장에 대한 임베딩 생성 (한 번만 수행)\n",
    "single_embedding = embedding_model.encode(fixed_answer).reshape(1, -1)\n",
    "\n",
    "# 동일한 벡터를 전체 데이터 개수만큼 복제\n",
    "pred_embeddings = np.repeat(single_embedding, len(test_df), axis=0)\n",
    "\n",
    "print(f\"임베딩 생성 완료! Shape: {pred_embeddings.shape}\")  # (샘플 개수, 768)\n",
    "\n",
    "# 2. 샘플 Submission 파일 로드\n",
    "submission_file = \"../../data/sample_submission.csv\"\n",
    "submission = pd.read_csv(submission_file, encoding=\"utf-8-sig\")\n",
    "\n",
    "# 3. 정답 컬럼 채우기\n",
    "submission.iloc[:, 1] = test_results  # 모든 정답을 동일한 문장으로 설정\n",
    "\n",
    "# 4. 임베딩 값을 채우기 (numpy 배열 → DataFrame 변환 후 삽입)\n",
    "embedding_df = pd.DataFrame(pred_embeddings, columns=[f\"embedding_{i}\" for i in range(pred_embeddings.shape[1])])\n",
    "submission.iloc[:, 2:] = embedding_df.values\n",
    "\n",
    "# 5. 최종 결과 저장\n",
    "output_file = \"./fake_submission.csv\"\n",
    "submission.to_csv(output_file, index=False, encoding=\"utf-8-sig\")\n",
    "\n",
    "print(f\"테스트용 submission 파일 생성 완료 → {output_file}\")\n"
   ]
  }
 ],
 "metadata": {
  "kernelspec": {
   "display_name": "lang_311",
   "language": "python",
   "name": "python3"
  },
  "language_info": {
   "codemirror_mode": {
    "name": "ipython",
    "version": 3
   },
   "file_extension": ".py",
   "mimetype": "text/x-python",
   "name": "python",
   "nbconvert_exporter": "python",
   "pygments_lexer": "ipython3",
   "version": "3.11.11"
  }
 },
 "nbformat": 4,
 "nbformat_minor": 2
}
