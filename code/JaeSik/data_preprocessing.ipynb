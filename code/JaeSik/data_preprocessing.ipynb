{
 "cells": [
  {
   "cell_type": "markdown",
   "id": "e50eee59-b527-44e0-afa8-7e4ee190affb",
   "metadata": {},
   "source": [
    "# Import"
   ]
  },
  {
   "cell_type": "code",
   "execution_count": 1,
   "id": "493a074b-5e32-44c1-aee9-d378b1b37003",
   "metadata": {},
   "outputs": [],
   "source": [
    "import pandas as pd"
   ]
  },
  {
   "cell_type": "markdown",
   "id": "37f4223e-111b-49a8-a716-5f98caacf12f",
   "metadata": {},
   "source": [
    "# Data Load & Pre-processing"
   ]
  },
  {
   "cell_type": "code",
   "execution_count": 2,
   "id": "f871264a-ecd6-430d-ab1f-8edad746bd14",
   "metadata": {},
   "outputs": [],
   "source": [
    "train = pd.read_csv('../../data/train.csv', encoding = 'utf-8-sig')\n",
    "test = pd.read_csv('../../data/test.csv', encoding = 'utf-8-sig')"
   ]
  },
  {
   "cell_type": "code",
   "execution_count": 3,
   "id": "6e080d36",
   "metadata": {},
   "outputs": [],
   "source": [
    "construction_fill_values = {\n",
    "    \"TRAIN_02856\": \"건축 > 마감공사\",           # 건축 / 건축물 / 공동주택, 작업프로세스: 기타\n",
    "    \"TRAIN_04706\": \"건축 > 철근콘크리트공사\",     # 건축 / 건축물 / 운동시설, 사고객체: 건물\n",
    "    \"TRAIN_06235\": \"건축 > 마감공사\",           # 건축 / 건축물 / 공동주택, 작업프로세스: 청소작업\n",
    "    \"TRAIN_09122\": \"기타 > 기타공사\",           # 공사종류 정보 부족 → 기타공사\n",
    "    \"TRAIN_13429\": \"건축 > 설비공사\",           # 건축 / 건축물 / 공장, 사고객체: 기타\n",
    "    \"TRAIN_13708\": \"토목 > 토공사\",            # 건축 / 건축물 / 기타, 사고객체: 덤프트럭\n",
    "    \"TRAIN_13866\": \"조경 > 조경공사\",           # 조경 / 기타, 작업프로세스: 운반작업\n",
    "    \"TRAIN_14143\": \"토목 > 부지조성공사\",        # 토목 / 기타 / 부지조성, 장소: 부지조성\n",
    "    \"TRAIN_14715\": \"조경 > 조경공사\",           # 건축 / 건축물 / 관광 휴게시설, 작업프로세스: 이동\n",
    "    \"TRAIN_15805\": \"건축 > 마감공사\",           # 건축 / 건축물 / 공동주택, 작업프로세스: 운반작업\n",
    "    \"TRAIN_18108\": \"기타 > 기타공사\"            # 건축 / 건축물 / 기타\n",
    "}\n",
    "accident_object_fill_values = {\n",
    "    \"TRAIN_02895\": \"건설자재 > 철근\",\n",
    "    \"TRAIN_04081\": \"건설자재 > 호스\",\n",
    "    \"TRAIN_04420\": \"시설물 > 바닥재\",\n",
    "    \"TRAIN_04562\": \"설비 > 배관\",\n",
    "    \"TRAIN_04870\": \"건설기계 > 덤프트럭\",\n",
    "    \"TRAIN_23363\": \"건설자재 > 판넬\",\n",
    "    \"TRAIN_23380\": \"건설자재 > 철근\",\n",
    "    \"TRAIN_23386\": \"공구 > 핸드그라인더\",\n",
    "    \"TRAIN_23414\": \"운반도구 > 핸드카\",\n",
    "    \"TRAIN_23420\": \"건설자재 > 브레싱\"\n",
    "}\n",
    "work_process_fill_values = {\n",
    "    \"TRAIN_02895\": \"운반작업\",\n",
    "    \"TRAIN_04081\": \"타설작업\",\n",
    "    \"TRAIN_04420\": \"바닥재 설치작업\",\n",
    "    \"TRAIN_04562\": \"배관설치작업\",\n",
    "    \"TRAIN_04870\": \"덤프트럭 운행작업\",\n",
    "    \"TRAIN_23363\": \"조립작업\",\n",
    "    \"TRAIN_23380\": \"철거작업\",\n",
    "    \"TRAIN_23386\": \"절단작업\",\n",
    "    \"TRAIN_23414\": \"운반작업\",\n",
    "    \"TRAIN_23420\": \"절단작업\"\n",
    "}"
   ]
  },
  {
   "cell_type": "code",
   "execution_count": 4,
   "id": "330cf6ce",
   "metadata": {},
   "outputs": [
    {
     "name": "stderr",
     "output_type": "stream",
     "text": [
      "C:\\Users\\user\\AppData\\Local\\Temp\\ipykernel_22476\\1855810551.py:10: FutureWarning: A value is trying to be set on a copy of a DataFrame or Series through chained assignment using an inplace method.\n",
      "The behavior will change in pandas 3.0. This inplace method will never work because the intermediate object on which we are setting values always behaves as a copy.\n",
      "\n",
      "For example, when doing 'df[col].method(value, inplace=True)', try using 'df.method({col: value}, inplace=True)' or df[col] = df[col].method(value) instead, to perform the operation inplace on the original object.\n",
      "\n",
      "\n",
      "  train['인적사고'].fillna(\"없음\", inplace=True)\n",
      "C:\\Users\\user\\AppData\\Local\\Temp\\ipykernel_22476\\1855810551.py:11: FutureWarning: A value is trying to be set on a copy of a DataFrame or Series through chained assignment using an inplace method.\n",
      "The behavior will change in pandas 3.0. This inplace method will never work because the intermediate object on which we are setting values always behaves as a copy.\n",
      "\n",
      "For example, when doing 'df[col].method(value, inplace=True)', try using 'df.method({col: value}, inplace=True)' or df[col] = df[col].method(value) instead, to perform the operation inplace on the original object.\n",
      "\n",
      "\n",
      "  train['물적사고'].fillna(\"없음\", inplace=True)\n",
      "C:\\Users\\user\\AppData\\Local\\Temp\\ipykernel_22476\\1855810551.py:14: FutureWarning: A value is trying to be set on a copy of a DataFrame or Series through chained assignment using an inplace method.\n",
      "The behavior will change in pandas 3.0. This inplace method will never work because the intermediate object on which we are setting values always behaves as a copy.\n",
      "\n",
      "For example, when doing 'df[col].method(value, inplace=True)', try using 'df.method({col: value}, inplace=True)' or df[col] = df[col].method(value) instead, to perform the operation inplace on the original object.\n",
      "\n",
      "\n",
      "  train['사고원인'].fillna('기타', inplace=True)\n"
     ]
    }
   ],
   "source": [
    "\n",
    "# '사고객체' 컬럼의 결측값을 적절한 값으로 채우기, 없으면 '기타'로 대체\n",
    "for record_id in train[train[\"사고객체\"].isnull()][\"ID\"].tolist():\n",
    "    train.loc[train[\"ID\"] == record_id, \"사고객체\"] = accident_object_fill_values.get(record_id, \"기타 > 기타\")\n",
    "\n",
    "\n",
    "# '작업프로세스' 컬럼의 결측값을 적절한 값으로 채우기, 없으면 '기타'로 대체\n",
    "for record_id in train[train[\"작업프로세스\"].isnull()][\"ID\"].tolist():\n",
    "    train.loc[train[\"ID\"] == record_id, \"작업프로세스\"] = work_process_fill_values.get(record_id, \"기타\")\n",
    "\n",
    "train['인적사고'].fillna(\"없음\", inplace=True)\n",
    "train['물적사고'].fillna(\"없음\", inplace=True)\n",
    "for record_id, construction_type in construction_fill_values.items():\n",
    "    train.loc[train[\"ID\"] == record_id, \"공종\"] = construction_type\n",
    "train['사고원인'].fillna('기타', inplace=True)"
   ]
  },
  {
   "cell_type": "code",
   "execution_count": 5,
   "id": "5dcc0921-e9a7-407a-a070-148abb06aca5",
   "metadata": {},
   "outputs": [],
   "source": [
    "# 데이터 전처리\n",
    "train['공사종류(대분류)'] = train['공사종류'].str.split(' / ').str[0]\n",
    "train['공사종류(중분류)'] = train['공사종류'].str.split(' / ').str[1]\n",
    "train['공종(대분류)'] = train['공종'].str.split(' > ').str[0]\n",
    "train['공종(중분류)'] = train['공종'].str.split(' > ').str[1]\n",
    "train['사고객체(대분류)'] = train['사고객체'].str.split(' > ').str[0]\n",
    "train['사고객체(중분류)'] = train['사고객체'].str.split(' > ').str[1]\n",
    "\n",
    "test['공사종류(대분류)'] = test['공사종류'].str.split(' / ').str[0]\n",
    "test['공사종류(중분류)'] = test['공사종류'].str.split(' / ').str[1]\n",
    "test['공종(대분류)'] = test['공종'].str.split(' > ').str[0]\n",
    "test['공종(중분류)'] = test['공종'].str.split(' > ').str[1]\n",
    "test['사고객체(대분류)'] = test['사고객체'].str.split(' > ').str[0]\n",
    "test['사고객체(중분류)'] = test['사고객체'].str.split(' > ').str[1]"
   ]
  },
  {
   "cell_type": "code",
   "execution_count": 6,
   "id": "aaeb6241",
   "metadata": {},
   "outputs": [
    {
     "data": {
      "text/plain": [
       "[0        False\n",
       " 1        False\n",
       " 2        False\n",
       " 3        False\n",
       " 4        False\n",
       "          ...  \n",
       " 23417    False\n",
       " 23418    False\n",
       " 23419    False\n",
       " 23420    False\n",
       " 23421    False\n",
       " Name: 공사종류(중분류), Length: 23422, dtype: bool]"
      ]
     },
     "execution_count": 6,
     "metadata": {},
     "output_type": "execute_result"
    }
   ],
   "source": [
    "[train['공사종류(중분류)'].isnull()==True]"
   ]
  },
  {
   "cell_type": "code",
   "execution_count": 7,
   "id": "d1fa8042",
   "metadata": {},
   "outputs": [
    {
     "data": {
      "text/plain": [
       "사고원인\n",
       "작업자 부주의                                                                                     280\n",
       "작업자의 단순과실                                                                                   107\n",
       "부주의                                                                                          78\n",
       "기타                                                                                           69\n",
       "작업자 단순과실                                                                                     66\n",
       "                                                                                           ... \n",
       "테라코타 작업 내 십자 몰딩 절단 작업 중 핸드 그라인더 날이 코어 십자 몰딩에 튀면서 재해자의 왼손 중지 손가락 마디 윗부위가 핸드 그라인더 날에 베임 사고      1\n",
       "거푸집조립작업중 고정이 안된 유로펌이 탈락, 떨어지는것을 방지하기위해 손가락으로 지지하던 중 새끼 손가락이 눌려 골절됨                            1\n",
       "비상용 승강기 설치 작업을 위한 천정 타공 중 추락                                                                  1\n",
       "시스템 비계 설치 작업 중 미끄러짐                                                                           1\n",
       "크레인 작업 중 자재에 작업자 충돌                                                                           1\n",
       "Name: count, Length: 22073, dtype: int64"
      ]
     },
     "execution_count": 7,
     "metadata": {},
     "output_type": "execute_result"
    }
   ],
   "source": [
    "# train[train['사고원인'].isnull() == True][['사고원인','재발방지대책 및 향후조치계획']]\n",
    "train['사고원인'].value_counts()"
   ]
  },
  {
   "cell_type": "code",
   "execution_count": 8,
   "id": "86aad045",
   "metadata": {},
   "outputs": [],
   "source": [
    "# train[train['사고원인'].str.contains('단순과실', na=False)][['사고원인', '재발방지대책 및 향후조치계획']]"
   ]
  },
  {
   "cell_type": "code",
   "execution_count": 9,
   "id": "91a18c16",
   "metadata": {},
   "outputs": [
    {
     "data": {
      "text/plain": [
       "ID                 0\n",
       "발생일시               0\n",
       "사고인지 시간            0\n",
       "날씨                 0\n",
       "기온                 0\n",
       "습도                 0\n",
       "공사종류               0\n",
       "연면적                0\n",
       "층 정보               0\n",
       "인적사고               0\n",
       "물적사고               0\n",
       "공종                 0\n",
       "사고객체               0\n",
       "작업프로세스             0\n",
       "장소                 0\n",
       "부위                 0\n",
       "사고원인               0\n",
       "재발방지대책 및 향후조치계획    0\n",
       "공사종류(대분류)          0\n",
       "공사종류(중분류)          1\n",
       "공종(대분류)            0\n",
       "공종(중분류)            0\n",
       "사고객체(대분류)          0\n",
       "사고객체(중분류)          0\n",
       "dtype: int64"
      ]
     },
     "execution_count": 9,
     "metadata": {},
     "output_type": "execute_result"
    }
   ],
   "source": [
    "train.isnull().sum()"
   ]
  },
  {
   "cell_type": "code",
   "execution_count": 10,
   "id": "7a3744c3",
   "metadata": {},
   "outputs": [
    {
     "data": {
      "text/plain": [
       "Index(['ID', '발생일시', '사고인지 시간', '날씨', '기온', '습도', '공사종류', '연면적', '층 정보',\n",
       "       '인적사고', '물적사고', '공종', '사고객체', '작업프로세스', '장소', '부위', '사고원인',\n",
       "       '재발방지대책 및 향후조치계획', '공사종류(대분류)', '공사종류(중분류)', '공종(대분류)', '공종(중분류)',\n",
       "       '사고객체(대분류)', '사고객체(중분류)'],\n",
       "      dtype='object')"
      ]
     },
     "execution_count": 10,
     "metadata": {},
     "output_type": "execute_result"
    }
   ],
   "source": [
    "train.columns"
   ]
  },
  {
   "cell_type": "code",
   "execution_count": null,
   "id": "90e51bca-0c93-4412-9634-9f86ea9a36ef",
   "metadata": {},
   "outputs": [],
   "source": [
    "# 훈련 데이터 통합 생성\n",
    "combined_training_data = train.apply(\n",
    "    lambda row: {\n",
    "        \"question\": (\n",
    "            f\"공사종류 대분류 '{row['공사종류(대분류)']}', 중분류 '{row['공사종류(중분류)']}' 공사 중 \"\n",
    "            f\"공종 대분류 '{row['공종(대분류)']}', 중분류 '{row['공종(중분류)']}' 작업에서 \"\n",
    "            f\"사고객체 '{row['사고객체(대분류)']}'(중분류: '{row['사고객체(중분류)']}')와 관련된 사고가 발생했습니다. \"\n",
    "            f\"작업 프로세스는 '{row['작업프로세스']}'이며, 사고 원인은 '{row['사고원인']}'입니다. \"\n",
    "            f\"재발 방지 대책 및 향후 조치 계획은 무엇인가요?\"\n",
    "        ),\n",
    "        \"answer\": row[\"재발방지대책 및 향후조치계획\"]\n",
    "    },\n",
    "    axis=1\n",
    ")\n",
    "\n",
    "# DataFrame으로 변환\n",
    "combined_training_data = pd.DataFrame(list(combined_training_data))"
   ]
  },
  {
   "cell_type": "code",
   "execution_count": null,
   "id": "cbf53249-8aae-4308-a476-4200814da53d",
   "metadata": {
    "scrolled": true
   },
   "outputs": [],
   "source": [
    "# 테스트 데이터 통합 생성\n",
    "combined_test_data = test.apply(\n",
    "    lambda row: {\n",
    "        \"question\": (\n",
    "            f\"공사종류 대분류 '{row['공사종류(대분류)']}', 중분류 '{row['공사종류(중분류)']}' 공사 중 \"\n",
    "            f\"공종 대분류 '{row['공종(대분류)']}', 중분류 '{row['공종(중분류)']}' 작업에서 \"\n",
    "            f\"사고객체 '{row['사고객체(대분류)']}'(중분류: '{row['사고객체(중분류)']}')와 관련된 사고가 발생했습니다. \"\n",
    "            f\"작업 프로세스는 '{row['작업프로세스']}'이며, 사고 원인은 '{row['사고원인']}'입니다. \"\n",
    "            f\"재발 방지 대책 및 향후 조치 계획은 무엇인가요?\"\n",
    "        )\n",
    "    },\n",
    "    axis=1\n",
    ")\n",
    "\n",
    "# DataFrame으로 변환\n",
    "combined_test_data = pd.DataFrame(list(combined_test_data))"
   ]
  }
 ],
 "metadata": {
  "kernelspec": {
   "display_name": "env311_cu121",
   "language": "python",
   "name": "python3"
  },
  "language_info": {
   "codemirror_mode": {
    "name": "ipython",
    "version": 3
   },
   "file_extension": ".py",
   "mimetype": "text/x-python",
   "name": "python",
   "nbconvert_exporter": "python",
   "pygments_lexer": "ipython3",
   "version": "3.11.11"
  }
 },
 "nbformat": 4,
 "nbformat_minor": 5
}
