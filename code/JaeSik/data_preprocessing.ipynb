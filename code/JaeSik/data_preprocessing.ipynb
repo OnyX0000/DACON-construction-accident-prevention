{
 "cells": [
  {
   "cell_type": "markdown",
   "id": "e50eee59-b527-44e0-afa8-7e4ee190affb",
   "metadata": {},
   "source": [
    "# Import"
   ]
  },
  {
   "cell_type": "code",
   "execution_count": 19,
   "id": "493a074b-5e32-44c1-aee9-d378b1b37003",
   "metadata": {},
   "outputs": [],
   "source": [
    "import pandas as pd"
   ]
  },
  {
   "cell_type": "markdown",
   "id": "37f4223e-111b-49a8-a716-5f98caacf12f",
   "metadata": {},
   "source": [
    "# Data Load & Pre-processing"
   ]
  },
  {
   "cell_type": "code",
   "execution_count": 20,
   "id": "f871264a-ecd6-430d-ab1f-8edad746bd14",
   "metadata": {},
   "outputs": [],
   "source": [
    "train = pd.read_csv('../../data/train.csv', encoding = 'utf-8-sig')\n",
    "test = pd.read_csv('../../data/test.csv', encoding = 'utf-8-sig')"
   ]
  },
  {
   "cell_type": "code",
   "execution_count": 21,
   "id": "6e080d36",
   "metadata": {},
   "outputs": [],
   "source": [
    "construction_fill_values = {\n",
    "    \"TRAIN_02856\": \"건축 > 마감공사\",           # 건축 / 건축물 / 공동주택, 작업프로세스: 기타\n",
    "    \"TRAIN_04706\": \"건축 > 철근콘크리트공사\",     # 건축 / 건축물 / 운동시설, 사고객체: 건물\n",
    "    \"TRAIN_06235\": \"건축 > 마감공사\",           # 건축 / 건축물 / 공동주택, 작업프로세스: 청소작업\n",
    "    \"TRAIN_09122\": \"기타 > 기타공사\",           # 공사종류 정보 부족 → 기타공사\n",
    "    \"TRAIN_13429\": \"건축 > 설비공사\",           # 건축 / 건축물 / 공장, 사고객체: 기타\n",
    "    \"TRAIN_13708\": \"토목 > 토공사\",            # 건축 / 건축물 / 기타, 사고객체: 덤프트럭\n",
    "    \"TRAIN_13866\": \"조경 > 조경공사\",           # 조경 / 기타, 작업프로세스: 운반작업\n",
    "    \"TRAIN_14143\": \"토목 > 부지조성공사\",        # 토목 / 기타 / 부지조성, 장소: 부지조성\n",
    "    \"TRAIN_14715\": \"조경 > 조경공사\",           # 건축 / 건축물 / 관광 휴게시설, 작업프로세스: 이동\n",
    "    \"TRAIN_15805\": \"건축 > 마감공사\",           # 건축 / 건축물 / 공동주택, 작업프로세스: 운반작업\n",
    "    \"TRAIN_18108\": \"기타 > 기타공사\"            # 건축 / 건축물 / 기타\n",
    "}\n",
    "accident_object_fill_values = {\n",
    "    \"TRAIN_02895\": \"건설자재 > 철근\",\n",
    "    \"TRAIN_04081\": \"건설자재 > 호스\",\n",
    "    \"TRAIN_04420\": \"시설물 > 바닥재\",\n",
    "    \"TRAIN_04562\": \"설비 > 배관\",\n",
    "    \"TRAIN_04870\": \"건설기계 > 덤프트럭\",\n",
    "    \"TRAIN_23363\": \"건설자재 > 판넬\",\n",
    "    \"TRAIN_23380\": \"건설자재 > 철근\",\n",
    "    \"TRAIN_23386\": \"공구 > 핸드그라인더\",\n",
    "    \"TRAIN_23414\": \"운반도구 > 핸드카\",\n",
    "    \"TRAIN_23420\": \"건설자재 > 브레싱\"\n",
    "}\n",
    "work_process_fill_values = {\n",
    "    \"TRAIN_02895\": \"운반작업\",\n",
    "    \"TRAIN_04081\": \"타설작업\",\n",
    "    \"TRAIN_04420\": \"바닥재 설치작업\",\n",
    "    \"TRAIN_04562\": \"배관설치작업\",\n",
    "    \"TRAIN_04870\": \"덤프트럭 운행작업\",\n",
    "    \"TRAIN_23363\": \"조립작업\",\n",
    "    \"TRAIN_23380\": \"철거작업\",\n",
    "    \"TRAIN_23386\": \"절단작업\",\n",
    "    \"TRAIN_23414\": \"운반작업\",\n",
    "    \"TRAIN_23420\": \"절단작업\"\n",
    "}"
   ]
  },
  {
   "cell_type": "code",
   "execution_count": 22,
   "id": "330cf6ce",
   "metadata": {},
   "outputs": [
    {
     "name": "stderr",
     "output_type": "stream",
     "text": [
      "C:\\Users\\user\\AppData\\Local\\Temp\\ipykernel_15568\\1855810551.py:10: FutureWarning: A value is trying to be set on a copy of a DataFrame or Series through chained assignment using an inplace method.\n",
      "The behavior will change in pandas 3.0. This inplace method will never work because the intermediate object on which we are setting values always behaves as a copy.\n",
      "\n",
      "For example, when doing 'df[col].method(value, inplace=True)', try using 'df.method({col: value}, inplace=True)' or df[col] = df[col].method(value) instead, to perform the operation inplace on the original object.\n",
      "\n",
      "\n",
      "  train['인적사고'].fillna(\"없음\", inplace=True)\n",
      "C:\\Users\\user\\AppData\\Local\\Temp\\ipykernel_15568\\1855810551.py:11: FutureWarning: A value is trying to be set on a copy of a DataFrame or Series through chained assignment using an inplace method.\n",
      "The behavior will change in pandas 3.0. This inplace method will never work because the intermediate object on which we are setting values always behaves as a copy.\n",
      "\n",
      "For example, when doing 'df[col].method(value, inplace=True)', try using 'df.method({col: value}, inplace=True)' or df[col] = df[col].method(value) instead, to perform the operation inplace on the original object.\n",
      "\n",
      "\n",
      "  train['물적사고'].fillna(\"없음\", inplace=True)\n",
      "C:\\Users\\user\\AppData\\Local\\Temp\\ipykernel_15568\\1855810551.py:14: FutureWarning: A value is trying to be set on a copy of a DataFrame or Series through chained assignment using an inplace method.\n",
      "The behavior will change in pandas 3.0. This inplace method will never work because the intermediate object on which we are setting values always behaves as a copy.\n",
      "\n",
      "For example, when doing 'df[col].method(value, inplace=True)', try using 'df.method({col: value}, inplace=True)' or df[col] = df[col].method(value) instead, to perform the operation inplace on the original object.\n",
      "\n",
      "\n",
      "  train['사고원인'].fillna('기타', inplace=True)\n"
     ]
    }
   ],
   "source": [
    "\n",
    "# '사고객체' 컬럼의 결측값을 적절한 값으로 채우기, 없으면 '기타'로 대체\n",
    "for record_id in train[train[\"사고객체\"].isnull()][\"ID\"].tolist():\n",
    "    train.loc[train[\"ID\"] == record_id, \"사고객체\"] = accident_object_fill_values.get(record_id, \"기타 > 기타\")\n",
    "\n",
    "\n",
    "# '작업프로세스' 컬럼의 결측값을 적절한 값으로 채우기, 없으면 '기타'로 대체\n",
    "for record_id in train[train[\"작업프로세스\"].isnull()][\"ID\"].tolist():\n",
    "    train.loc[train[\"ID\"] == record_id, \"작업프로세스\"] = work_process_fill_values.get(record_id, \"기타\")\n",
    "\n",
    "train['인적사고'].fillna(\"없음\", inplace=True)\n",
    "train['물적사고'].fillna(\"없음\", inplace=True)\n",
    "for record_id, construction_type in construction_fill_values.items():\n",
    "    train.loc[train[\"ID\"] == record_id, \"공종\"] = construction_type\n",
    "train['사고원인'].fillna('기타', inplace=True)"
   ]
  },
  {
   "cell_type": "code",
   "execution_count": 23,
   "id": "5dcc0921-e9a7-407a-a070-148abb06aca5",
   "metadata": {},
   "outputs": [],
   "source": [
    "# 데이터 전처리\n",
    "train['공사종류(대분류)'] = train['공사종류'].str.split(' / ').str[0]\n",
    "train['공사종류(중분류)'] = train['공사종류'].str.split(' / ').str[1]\n",
    "train['공종(대분류)'] = train['공종'].str.split(' > ').str[0]\n",
    "train['공종(중분류)'] = train['공종'].str.split(' > ').str[1]\n",
    "train['사고객체(대분류)'] = train['사고객체'].str.split(' > ').str[0]\n",
    "train['사고객체(중분류)'] = train['사고객체'].str.split(' > ').str[1]\n",
    "\n",
    "test['공사종류(대분류)'] = test['공사종류'].str.split(' / ').str[0]\n",
    "test['공사종류(중분류)'] = test['공사종류'].str.split(' / ').str[1]\n",
    "test['공종(대분류)'] = test['공종'].str.split(' > ').str[0]\n",
    "test['공종(중분류)'] = test['공종'].str.split(' > ').str[1]\n",
    "test['사고객체(대분류)'] = test['사고객체'].str.split(' > ').str[0]\n",
    "test['사고객체(중분류)'] = test['사고객체'].str.split(' > ').str[1]"
   ]
  },
  {
   "cell_type": "code",
   "execution_count": 29,
   "id": "2021bfbf",
   "metadata": {},
   "outputs": [
    {
     "data": {
      "text/plain": [
       "Index(['ID', '발생일시', '사고인지 시간', '날씨', '기온', '습도', '공사종류', '연면적', '층 정보',\n",
       "       '인적사고', '물적사고', '공종', '사고객체', '작업프로세스', '장소', '부위', '사고원인',\n",
       "       '재발방지대책 및 향후조치계획', '공사종류(대분류)', '공사종류(중분류)', '공종(대분류)', '공종(중분류)',\n",
       "       '사고객체(대분류)', '사고객체(중분류)'],\n",
       "      dtype='object')"
      ]
     },
     "execution_count": 29,
     "metadata": {},
     "output_type": "execute_result"
    }
   ],
   "source": [
    "train.columns"
   ]
  },
  {
   "cell_type": "code",
   "execution_count": 31,
   "id": "aaeb6241",
   "metadata": {},
   "outputs": [
    {
     "data": {
      "text/html": [
       "<div>\n",
       "<style scoped>\n",
       "    .dataframe tbody tr th:only-of-type {\n",
       "        vertical-align: middle;\n",
       "    }\n",
       "\n",
       "    .dataframe tbody tr th {\n",
       "        vertical-align: top;\n",
       "    }\n",
       "\n",
       "    .dataframe thead th {\n",
       "        text-align: right;\n",
       "    }\n",
       "</style>\n",
       "<table border=\"1\" class=\"dataframe\">\n",
       "  <thead>\n",
       "    <tr style=\"text-align: right;\">\n",
       "      <th></th>\n",
       "      <th>재발방지대책 및 향후조치계획</th>\n",
       "      <th>공사종류(대분류)</th>\n",
       "      <th>공사종류(중분류)</th>\n",
       "      <th>공종(대분류)</th>\n",
       "      <th>공종(중분류)</th>\n",
       "      <th>사고객체(대분류)</th>\n",
       "      <th>사고객체(중분류)</th>\n",
       "      <th>사고객체</th>\n",
       "      <th>작업프로세스</th>\n",
       "      <th>장소</th>\n",
       "      <th>부위</th>\n",
       "      <th>사고원인</th>\n",
       "    </tr>\n",
       "  </thead>\n",
       "  <tbody>\n",
       "    <tr>\n",
       "      <th>0</th>\n",
       "      <td>고소작업 시 추락 위험이 있는 부위에 안전장비 설치.</td>\n",
       "      <td>건축</td>\n",
       "      <td>건축물</td>\n",
       "      <td>건축</td>\n",
       "      <td>철근콘크리트공사</td>\n",
       "      <td>건설자재</td>\n",
       "      <td>철근</td>\n",
       "      <td>건설자재 &gt; 철근</td>\n",
       "      <td>설치작업</td>\n",
       "      <td>근린생활시설 / 내부</td>\n",
       "      <td>철근 / 고소</td>\n",
       "      <td>고소작업 중 추락 위험이 있음에도 불구하고, 안전난간대, 안전고리 착용 등 안전장치...</td>\n",
       "    </tr>\n",
       "  </tbody>\n",
       "</table>\n",
       "</div>"
      ],
      "text/plain": [
       "                 재발방지대책 및 향후조치계획 공사종류(대분류) 공사종류(중분류) 공종(대분류)   공종(중분류)  \\\n",
       "0  고소작업 시 추락 위험이 있는 부위에 안전장비 설치.        건축       건축물      건축  철근콘크리트공사   \n",
       "\n",
       "  사고객체(대분류) 사고객체(중분류)       사고객체 작업프로세스           장소       부위  \\\n",
       "0      건설자재        철근  건설자재 > 철근   설치작업  근린생활시설 / 내부  철근 / 고소   \n",
       "\n",
       "                                                사고원인  \n",
       "0  고소작업 중 추락 위험이 있음에도 불구하고, 안전난간대, 안전고리 착용 등 안전장치...  "
      ]
     },
     "execution_count": 31,
     "metadata": {},
     "output_type": "execute_result"
    }
   ],
   "source": [
    "train[['재발방지대책 및 향후조치계획', '공사종류(대분류)', '공사종류(중분류)', '공종(대분류)', '공종(중분류)','사고객체(대분류)', '사고객체(중분류)', '사고객체', '작업프로세스', '장소', '부위', '사고원인']].iloc[[0]]"
   ]
  },
  {
   "cell_type": "code",
   "execution_count": 14,
   "id": "e10fc964",
   "metadata": {},
   "outputs": [
    {
     "data": {
      "text/plain": [
       "[Document(metadata={'producer': 'ezPDF Builder Supreme', 'creator': '', 'creationdate': '2020-12-22T09:46:00+09:00', 'source': 'C:/wanted/Git_project/DACON-construction-accident-prevention/code/SangGyeom/가공송전선로 철탑 심형기초공사 안전보건작업 지침.pdf', 'file_path': 'C:/wanted/Git_project/DACON-construction-accident-prevention/code/SangGyeom/가공송전선로 철탑 심형기초공사 안전보건작업 지침.pdf', 'total_pages': 12, 'format': 'PDF 1.4', 'title': '', 'author': '', 'subject': '', 'keywords': '', 'moddate': '2020-12-22T09:46:00+09:00', 'trapped': '', 'modDate': \"D:20201222094600+09'00'\", 'creationDate': \"D:20201222094600+09'00'\", 'page': 0}, page_content='KOSHA GUIDE\\nC - 54 - 2012\\n가공송전선로철탑심형기초공사\\n안전보건작업지침\\n2012.\\n8.\\n한국산업안전보건공단'),\n",
       " Document(metadata={'producer': 'ezPDF Builder Supreme', 'creator': '', 'creationdate': '2020-12-22T09:46:00+09:00', 'source': 'C:/wanted/Git_project/DACON-construction-accident-prevention/code/SangGyeom/가공송전선로 철탑 심형기초공사 안전보건작업 지침.pdf', 'file_path': 'C:/wanted/Git_project/DACON-construction-accident-prevention/code/SangGyeom/가공송전선로 철탑 심형기초공사 안전보건작업 지침.pdf', 'total_pages': 12, 'format': 'PDF 1.4', 'title': '', 'author': '', 'subject': '', 'keywords': '', 'moddate': '2020-12-22T09:46:00+09:00', 'trapped': '', 'modDate': \"D:20201222094600+09'00'\", 'creationDate': \"D:20201222094600+09'00'\", 'page': 1}, page_content='안전보건기술지침의개요\\n○작성자: 최 순 주\\n○제․개정경과\\n  - 2006년11월건설안전분야제정위원회심의\\n- 2006년12월총괄제정위원회심의\\n- 2012년7월건설안전분야제정위원회심의(개정)\\n○관련법규․규칙․고시등\\n- 산업안전보건법\\n- 가공송전선로(철탑)공사의안전(한국산업안전보건공단)\\n- 765kV 송전선로일반시방서(한국전력공사전력계통건설처)\\n- 765kV 송전선로특기시방서(한국전력공사전력계통건설처)\\n- 유해․위험방지계획서(765kV 울진-신태백가공송전선로○○건설현장등)\\n○기술지침의적용및문의\\n이기술지침에대한의견또는문의는한국산업안전보건공단홈페이지안전보건\\n기술지침소관분야별문의처안내를참고하시기바랍니다.\\n○공표일자 : 2012년  8월 27일\\n○제정자: 한국산업안전보건공단이사장'),\n",
       " Document(metadata={'producer': 'ezPDF Builder Supreme', 'creator': '', 'creationdate': '2020-12-22T09:46:00+09:00', 'source': 'C:/wanted/Git_project/DACON-construction-accident-prevention/code/SangGyeom/가공송전선로 철탑 심형기초공사 안전보건작업 지침.pdf', 'file_path': 'C:/wanted/Git_project/DACON-construction-accident-prevention/code/SangGyeom/가공송전선로 철탑 심형기초공사 안전보건작업 지침.pdf', 'total_pages': 12, 'format': 'PDF 1.4', 'title': '', 'author': '', 'subject': '', 'keywords': '', 'moddate': '2020-12-22T09:46:00+09:00', 'trapped': '', 'modDate': \"D:20201222094600+09'00'\", 'creationDate': \"D:20201222094600+09'00'\", 'page': 2}, page_content='KOSHA GUIDE\\nC - 54 - 2012\\n- 1 -\\n가공송전선로철탑심형기초공사안전보건작업지침\\n1. 목적\\n이지침은「산업안전보건기준에관한규칙」(이하“안전보건규칙”이라한다) 제2편제4\\n장제2절(굴착작업등의위험방지) 제1관(노천굴착작업) 의규정에의거하여가공송\\n전선로철탑의심형기초공사작업과정에서의안전작업을도모하고재해방지에필요한\\n지침을정함을목적으로한다.\\n2. 적용범위\\n이지침은가공송전선로철탑공사에서심형기초공법을적용한기초공사에대하여적용한다.\\n3. 용어의정의\\n(1) 이지침에서사용하는용어의정의는다음과같다\\n(가) “심형기초”라함은가공송전선로철탑기초공사에서주로사용되는기초공법의\\n일종으로<그림1>과같이구체부의깊이가구체부원형단면직경의2배를넘\\n는것을말한다.\\n<그림1> 심형기초'),\n",
       " Document(metadata={'producer': 'ezPDF Builder Supreme', 'creator': '', 'creationdate': '2020-12-22T09:46:00+09:00', 'source': 'C:/wanted/Git_project/DACON-construction-accident-prevention/code/SangGyeom/가공송전선로 철탑 심형기초공사 안전보건작업 지침.pdf', 'file_path': 'C:/wanted/Git_project/DACON-construction-accident-prevention/code/SangGyeom/가공송전선로 철탑 심형기초공사 안전보건작업 지침.pdf', 'total_pages': 12, 'format': 'PDF 1.4', 'title': '', 'author': '', 'subject': '', 'keywords': '', 'moddate': '2020-12-22T09:46:00+09:00', 'trapped': '', 'modDate': \"D:20201222094600+09'00'\", 'creationDate': \"D:20201222094600+09'00'\", 'page': 3}, page_content=\"KOSHA GUIDE\\nC - 54 - 2012\\n- 2 -\\n(나) “라이너플레이트(Liner Plate: 유실방지토공판, 이하‘L.P'라한다)”라함은심\\n형기초굴착공사에서조립구조의흙막이지보공을말한다.\\n(다) “각입”이라함은기초굴착공사를완료한다음철탑구조물최하단에위치하는\\n기초재를설치하는공사를말한다.\\n(2) 그밖의이지침에사용하는용어의정의는이지침에서특별히규정하는경우\\n를제외하고는산업안전보건법, 같은법시행령, 같은법시행규칙, 안전보건규칙\\n및관련고시에서정하는바에따른다.\\n4. 공사준비\\n(1) 철탑공사를수행하는사업주는착공에서준공까지근로자의유해․위험방지에필요\\n한산업안전보건법등의관련법규를검토하여공사착공이전에안전작업계획을\\n수립하고시행하여야한다.\\n(2) 철탑의높이가31 m 이상이거나굴착깊이가10 m 이상인철탑공사는산업안전\\n보건법제48조에의한유해․위험방지계획서를수립하고제출하는등노동부령을\\n준수하여야한다.\\n(3) 유해․위험방지계획서는현장내에비치․활용하고변경사유가발생하는경우\\n해당작업을시작하기전에이를보완하여비치하여야한다.\\n5. 심형기초굴착작업\\n5.1 측량작업시유의사항\\n(1) 철탑의설치위치등측량작업을시작하기이전에안전회의를실시하고, 근로자에게\\n측량내용및위험요인, 피난및응급처치요령등을교육하고근로자가내용을\\n숙지토록하여야한다.\"),\n",
       " Document(metadata={'producer': 'ezPDF Builder Supreme', 'creator': '', 'creationdate': '2020-12-22T09:46:00+09:00', 'source': 'C:/wanted/Git_project/DACON-construction-accident-prevention/code/SangGyeom/가공송전선로 철탑 심형기초공사 안전보건작업 지침.pdf', 'file_path': 'C:/wanted/Git_project/DACON-construction-accident-prevention/code/SangGyeom/가공송전선로 철탑 심형기초공사 안전보건작업 지침.pdf', 'total_pages': 12, 'format': 'PDF 1.4', 'title': '', 'author': '', 'subject': '', 'keywords': '', 'moddate': '2020-12-22T09:46:00+09:00', 'trapped': '', 'modDate': \"D:20201222094600+09'00'\", 'creationDate': \"D:20201222094600+09'00'\", 'page': 4}, page_content='KOSHA GUIDE\\nC - 54 - 2012\\n- 3 -\\n(2) 측량작업장까지의이동시이동경로에급경사면이나낭떠러지가있는경우우회\\n하여이동하는등안전한통로를확보하여야한다.\\n(3) 측량작업중수목가지치기작업을하는경우일정간격을유지시키며, 상․하\\n동시작업을금지하고벌목작업을하는경우에는수목의전도방향을근로자에게인\\n지시키고대피상태를확인한다음전도시켜야한다.\\n(4) 측량작업장이급경사인경우지면의평탄작업, 안전난간의설치, 안전대를착용\\n시키는등경사면에서전도, 전락에의한추락재해예방조치를하여야한다.\\n(5) 측량작업에투입되는근로자에게는뱀이나독충에의한상해에대비하여응\\n급처치용구급약품을제공하고휴대토록하여야한다.\\n5.2 굴착준비\\n(1) 굴착기계는운전시진동등에의한굴착기초사면의붕괴및흙막이작업에장해가\\n되지않도록배치하여야한다.\\n(2) 경사지역의경우에는경사면을절취하는등평탄작업을선행하고, 연약지반인경우에는\\n받침판을설치하는등침하방지조치를하여야한다.\\n(3) 굴착기계는지형․지반에적합한기종을선정하여야하며, 굴착기계를설치하는\\n지형의한계경사각은30˚ 이하이어야한다.\\n5.3 굴착작업\\n5.3.1 라이너플레이트시공준비\\n(1) 설계도서를확인하여굴착깊이에필요한L.P의필요수량을준비하고, 보강링의\\n설치가필요한경우에는앵글폭과단수를확인하여필요수량을준비하여야한\\n다.\\n(2) 굴착작업장주변에는안전난간, 방호울(Fence) 등을설치하고출입제한등의안전\\n표지는L.P로부터약2 m 정도의거리에부착하여야한다.'),\n",
       " Document(metadata={'producer': 'ezPDF Builder Supreme', 'creator': '', 'creationdate': '2020-12-22T09:46:00+09:00', 'source': 'C:/wanted/Git_project/DACON-construction-accident-prevention/code/SangGyeom/가공송전선로 철탑 심형기초공사 안전보건작업 지침.pdf', 'file_path': 'C:/wanted/Git_project/DACON-construction-accident-prevention/code/SangGyeom/가공송전선로 철탑 심형기초공사 안전보건작업 지침.pdf', 'total_pages': 12, 'format': 'PDF 1.4', 'title': '', 'author': '', 'subject': '', 'keywords': '', 'moddate': '2020-12-22T09:46:00+09:00', 'trapped': '', 'modDate': \"D:20201222094600+09'00'\", 'creationDate': \"D:20201222094600+09'00'\", 'page': 5}, page_content='KOSHA GUIDE\\nC - 54 - 2012\\n- 4 -\\n(3) 굴착공사과정에서강우등에의한영향을받을우려가있는경우에는작업전에\\n주변지반의상황등을점검하여안전을확인한다음작업하여야한다.\\n(4) L.P의설치및조립을위한지반은수평으로마무리하여야한다.\\n(5) 급경사지반을계단굴착또는절․성토하여조성한지반은레벨등을이용하여수평\\n으로마무리하여야한다.\\n5.3.2 상단L.P 설치\\n(1) 최상단L.P는원주를따라서25 ～50 cm 정도를굴착한다음수평으로설치하여야\\n한다.\\n(2) 굴착과정에서의오차및찌그러짐을방지하기위하여최상단L.P 1단을정확하게\\n조립하여고정시켜야한다.\\n(3) 최상단L.P는낙하물및추락을방지하기위하여굴착지면보다1 m 이상돌출\\n시켜설치하여야한다.\\n(4) L.P는고정핀으로고정하고, 연직성유지, 침하방지, 지표수의유입방지등을위\\n하여<그림2>와같이\\nL.P 주변에약20 cm 정도이상의높이로고정용콘크리트를\\n타설하여야한다.\\n<그림2> L.P의콘크리트고정'),\n",
       " Document(metadata={'producer': 'ezPDF Builder Supreme', 'creator': '', 'creationdate': '2020-12-22T09:46:00+09:00', 'source': 'C:/wanted/Git_project/DACON-construction-accident-prevention/code/SangGyeom/가공송전선로 철탑 심형기초공사 안전보건작업 지침.pdf', 'file_path': 'C:/wanted/Git_project/DACON-construction-accident-prevention/code/SangGyeom/가공송전선로 철탑 심형기초공사 안전보건작업 지침.pdf', 'total_pages': 12, 'format': 'PDF 1.4', 'title': '', 'author': '', 'subject': '', 'keywords': '', 'moddate': '2020-12-22T09:46:00+09:00', 'trapped': '', 'modDate': \"D:20201222094600+09'00'\", 'creationDate': \"D:20201222094600+09'00'\", 'page': 6}, page_content='KOSHA GUIDE\\nC - 54 - 2012\\n- 5 -\\n(5) 상단L.P를고정한콘크리트의균열및이상유․무는수시(작업전,후및매단\\nL.P 추가설치전, 후)로점검하여야한다.\\n(6) 상부고정용콘크리트에이상이발견되면, 즉시작업을중지하고전문가의의견을\\n들어보강한다음안전을확인하고작업을재개하여야한다.\\n(7) 최상단L.P의설치상태및굴삭기의점검을통해안전여부를확인한다음굴착\\n하고, 작업을중지하는경우에는L.P의상단에방호망을설치하여야한다.\\n(8) 1회굴착깊이는1.5 m 를초과하지않도록하고, 연약지반인경우L.P 1단을조립\\n할수있는깊이(약50 cm)를굴착하면즉시조립한다음굴착을진행하여야한다.\\n(9) 굴착한토사는L.P로부터2 m 이상떨어진장소에적토하고시트등을덮는등\\n빗물에의한토사유출을방지하여야한다.\\n(10) 계단굴착을하는경우에는상단으로부터L.P의각단을순차적으로연장설치하여\\n원형으로조립하여야한다.\\n(11) 굴착면과L.P 사이의공간은밀실하게되메우기를하고충분히다짐하여야한다.\\n(12) 발파작업에의한굴착을하는경우에는노동부고시제2009-51호『발파작업표준\\n안전작업지침』등을준용하고, 관련법규를준수하는등안전작업계획을수립하여\\n이행하여야한다.\\n5.3.3 내부굴착및L.P설치\\n(1) 비교적단단한지반으로붕괴의위험이없는경우에는상단LP의하부로부터1.5 m\\n정도굴착하면즉시하부L.P를조립하여연장하여야한다.\\n(2) 붕괴되기쉬운연약지반에서는50 cm 정도굴착이진척되면즉시하부L.P를\\n조립하여연장하여야한다.\\n(3) L.P의연결은연결에필요한수량만큼만내부로반입하여상단부의고정L.P에\\n1매씩연결하여야한다.'),\n",
       " Document(metadata={'producer': 'ezPDF Builder Supreme', 'creator': '', 'creationdate': '2020-12-22T09:46:00+09:00', 'source': 'C:/wanted/Git_project/DACON-construction-accident-prevention/code/SangGyeom/가공송전선로 철탑 심형기초공사 안전보건작업 지침.pdf', 'file_path': 'C:/wanted/Git_project/DACON-construction-accident-prevention/code/SangGyeom/가공송전선로 철탑 심형기초공사 안전보건작업 지침.pdf', 'total_pages': 12, 'format': 'PDF 1.4', 'title': '', 'author': '', 'subject': '', 'keywords': '', 'moddate': '2020-12-22T09:46:00+09:00', 'trapped': '', 'modDate': \"D:20201222094600+09'00'\", 'creationDate': \"D:20201222094600+09'00'\", 'page': 7}, page_content='KOSHA GUIDE\\nC - 54 - 2012\\n- 6 -\\n(4) 측벽L.P의수직오차는지상에설치한틀에서추를4개정도늘어뜨려매2～3 m\\n마다오차측정을실시하고필요시보정하여야한다.\\n(5) 토압이나수압등외력의작용으로붕괴의우려가있는경우에는<그림3>과같이\\n보강링을삽입하여설치하여야한다. 단, 지반이단단하고L.P의외측에가해지는\\n토압이작은경우에는예외로한다.\\n<그림3> 보강링삽입\\n(6) 최하단의L.P를설치하고패킹을따라링을삽입하도록용이하게조정하며, 보강링을\\n원형으로조립하여설치하여야한다.\\n(7) 보강링은지상에서반원또는4등분정도를가조립하여굴착기초에내려보강링의\\n삽입위치에서전체를조립하여야한다.\\n5.3.4 유공L.P 설치및이면그라우팅\\n(1) 굴착깊이가깊어L.P의하중이큰경우또는지반이연약하여붕괴의우려가있는\\n경우에는유공L.P로조립하고콘크리트를타설하여보강하여야하며, 유공L.P는\\n해체하거나철거하여서는아니된다.\\n(2) 콘크리트를타설할때에는유공L.P의구멍을통하여콘크리트가L.P와굴착수직면\\n사이로흘러들어가밀실하게충전될수있도록진동기등을사용하여야한다.\\n6. 각입재설치'),\n",
       " Document(metadata={'producer': 'ezPDF Builder Supreme', 'creator': '', 'creationdate': '2020-12-22T09:46:00+09:00', 'source': 'C:/wanted/Git_project/DACON-construction-accident-prevention/code/SangGyeom/가공송전선로 철탑 심형기초공사 안전보건작업 지침.pdf', 'file_path': 'C:/wanted/Git_project/DACON-construction-accident-prevention/code/SangGyeom/가공송전선로 철탑 심형기초공사 안전보건작업 지침.pdf', 'total_pages': 12, 'format': 'PDF 1.4', 'title': '', 'author': '', 'subject': '', 'keywords': '', 'moddate': '2020-12-22T09:46:00+09:00', 'trapped': '', 'modDate': \"D:20201222094600+09'00'\", 'creationDate': \"D:20201222094600+09'00'\", 'page': 8}, page_content='KOSHA GUIDE\\nC - 54 - 2012\\n- 7 -\\n(1) 각입은안전작업이포함된설치방법에대한세부계획을수립하여안전을확인하\\n고상부재연결에이상이없도록정확하게설치하여야한다.\\n(2) 각입용장비는도로가개설된지역에서는10 ton 이상의트럭크레인, 미개설된지\\n역에서는산악크레인을사용하여안전한방법으로작업하여야한다.\\n(3) 크레인을사용하는작업은양중작업등에대한별도의안전작업절차서를작성하\\n여근로자에게숙지시키고비치하여야한다.\\n(4) 각입작업전설계도서의내용을점검하고, 다음순서에따라설치하여야한다.\\n(가) 기초중심점확인\\n(나) 중심점을기준하여각입재의기초판(Setting plate) 설치\\n(다) 각입재의기초판상부에주각재의위치표시\\n(라) 각입재설치\\n(마) 고정용지지대설치\\n(5) 각입재의고정용지지대는대각방향에서좌우45˚가되도록2개이상을설치하여\\n야한다.\\n(6) 지지대는주각재의브레이스고정용플레이트와볼트(M 16 이상, 32 mm)로\\n고정하여야한다.\\n7. 기초굴착작업시유의사항\\n7.1 굴착공내부출입및작업\\n(1) 굴착내부로의출입하는근로자는개인보호구를착용하고사용하여야한다.\\n(2) 굴착공내부에는근로자의출입에필요한사다리등의안전한승강설비및L.P\\n상부에설치한지지대와굴착공의바닥사이에수직지지로프를설치하여야한다.'),\n",
       " Document(metadata={'producer': 'ezPDF Builder Supreme', 'creator': '', 'creationdate': '2020-12-22T09:46:00+09:00', 'source': 'C:/wanted/Git_project/DACON-construction-accident-prevention/code/SangGyeom/가공송전선로 철탑 심형기초공사 안전보건작업 지침.pdf', 'file_path': 'C:/wanted/Git_project/DACON-construction-accident-prevention/code/SangGyeom/가공송전선로 철탑 심형기초공사 안전보건작업 지침.pdf', 'total_pages': 12, 'format': 'PDF 1.4', 'title': '', 'author': '', 'subject': '', 'keywords': '', 'moddate': '2020-12-22T09:46:00+09:00', 'trapped': '', 'modDate': \"D:20201222094600+09'00'\", 'creationDate': \"D:20201222094600+09'00'\", 'page': 9}, page_content='KOSHA GUIDE\\nC - 54 - 2012\\n- 8 -\\n(3) 수직지지로프는다음과같은방법을참고하여안전하게설치하여야한다.\\n(가) 수직지지로프의상부는지지대에설치한가이드록에<그림4>와같은방법으\\n로설치하여야한다.\\n<그림4> 수직지지로프의상부연결방법예\\n(나) 굴착공내부직경이변화하거나수직지지로프의꼬임및배근된철근내부로\\n말려들어갈우려가있는경우<그림5>와같은방법으로별도의중간지지대\\n를설치하여야한다.\\n(다) 수직지지로프의하부는<그림6>과같은방법으로기초바닥에견고하게고정하\\n여설치하여야한다.\\n<그림5> 중간지지대설치예\\n<그림6> 수직지지로프의하부고정예\\n(라) 승강설비를이용하여기초내부로출입하는근로자(굴착, L.P설치, 철근조립,\\n콘크리트타설등)는수직지지로프에안전대를체결한상태에서승강하여야\\n한다.'),\n",
       " Document(metadata={'producer': 'ezPDF Builder Supreme', 'creator': '', 'creationdate': '2020-12-22T09:46:00+09:00', 'source': 'C:/wanted/Git_project/DACON-construction-accident-prevention/code/SangGyeom/가공송전선로 철탑 심형기초공사 안전보건작업 지침.pdf', 'file_path': 'C:/wanted/Git_project/DACON-construction-accident-prevention/code/SangGyeom/가공송전선로 철탑 심형기초공사 안전보건작업 지침.pdf', 'total_pages': 12, 'format': 'PDF 1.4', 'title': '', 'author': '', 'subject': '', 'keywords': '', 'moddate': '2020-12-22T09:46:00+09:00', 'trapped': '', 'modDate': \"D:20201222094600+09'00'\", 'creationDate': \"D:20201222094600+09'00'\", 'page': 10}, page_content='KOSHA GUIDE\\nC - 54 - 2012\\n- 9 -\\n(마) 철근조립및콘크리트타설작업을하는장소에는<그림7>과같이안전한작\\n업발판을설치하여야한다.\\n<그림7> 작업발판설치예\\n7.2 용수처리\\n(1) 집수구는굴착하는단계의지반보다최소30 cm 정도낮게설치하고, 굴착공\\n내부에서의용수발생및우수의유입에대비하여양수기및호스등의배수설비를\\n굴착현장내에비치하고항상사용할수있는상태로점검하고관리하여야한다.\\n(2) 배수구는배수된용수가굴착위치에영향을미치지않는장소를선택하여배수\\n하여야한다.\\n(3) 배수하는용수에점토등이섞여있는경우침전조를설치하는등의방법으로농지와\\n하천의오염을방지하여야한다.\\n(4) 용수가여러장소에서나오거나, 용수량이많은경우감리등전문가와협의하거나\\n자문을받아필요한경우굴착공법을변경하는등안전한공법으로굴착하여야한다.\\n7.3 배기가스처리\\n(1) 굴착공내부작업에투입되는근로자에게는투입하기이전에유해․위험작업에\\n대한특별교육을실시하여야한다.'),\n",
       " Document(metadata={'producer': 'ezPDF Builder Supreme', 'creator': '', 'creationdate': '2020-12-22T09:46:00+09:00', 'source': 'C:/wanted/Git_project/DACON-construction-accident-prevention/code/SangGyeom/가공송전선로 철탑 심형기초공사 안전보건작업 지침.pdf', 'file_path': 'C:/wanted/Git_project/DACON-construction-accident-prevention/code/SangGyeom/가공송전선로 철탑 심형기초공사 안전보건작업 지침.pdf', 'total_pages': 12, 'format': 'PDF 1.4', 'title': '', 'author': '', 'subject': '', 'keywords': '', 'moddate': '2020-12-22T09:46:00+09:00', 'trapped': '', 'modDate': \"D:20201222094600+09'00'\", 'creationDate': \"D:20201222094600+09'00'\", 'page': 11}, page_content='KOSHA GUIDE\\nC - 54 - 2012\\n- 10 -\\n(2) 굴착공내부작업근로자에게는방진마스크, 보안경, 송기마스크등필요한보호구를\\n지급하고착용상태를관리하여야하며, 근로자는지급된보호구를바르게착용하여야\\n한다.\\n(3) 굴착공내부로근로자를투입하는경우작업을시작하기이전에반드시산소농도\\n(18% 이상) 및가연성가스의유․무를확인한다음근로자를투입하여야한다.\\n(4) 굴착공내부에서는내연기관이내장된기계기구의사용을금지를원칙으로하고,\\n부득이한경우에는질식재해방지를위한충분한환기대책을수립하여이행하여야\\n한다.\\n(5) 지상에설치한송풍기등의내연기관에서배출되는배기가스가굴착공내부로\\n유입되지않도록하여야한다.\\n(6) 굴착공내부에서작업하는동안에는송풍기를상시운전하고, 배출구에깃발을설치\\n하는등의방법으로작동여부를수시로확인하여야한다.')]"
      ]
     },
     "execution_count": 14,
     "metadata": {},
     "output_type": "execute_result"
    }
   ],
   "source": [
    "path = \"C:/wanted/Git_project/DACON-construction-accident-prevention/code/SangGyeom/가공송전선로 철탑 심형기초공사 안전보건작업 지침.pdf\"\n",
    "\n",
    "from langchain_community.document_loaders import PyMuPDFLoader\n",
    "\n",
    "loader = PyMuPDFLoader(path)\n",
    "doc = loader.load()\n",
    "doc"
   ]
  },
  {
   "cell_type": "code",
   "execution_count": 9,
   "id": "d1fa8042",
   "metadata": {},
   "outputs": [
    {
     "data": {
      "text/plain": [
       "공사종류(대분류)\n",
       "건축        60\n",
       "토목        15\n",
       "산업환경설비     1\n",
       "Name: count, dtype: int64"
      ]
     },
     "execution_count": 9,
     "metadata": {},
     "output_type": "execute_result"
    }
   ],
   "source": [
    "# train[train['사고원인'].isnull() == True][['사고원인','재발방지대책 및 향후조치계획']]\n",
    "train[train['재발방지대책 및 향후조치계획'] == \"안전교육 실시를 통한 재발 방지 대책 및 향후 조치 계획.\"]['공사종류(대분류)'].value_counts()"
   ]
  },
  {
   "cell_type": "code",
   "execution_count": 8,
   "id": "86aad045",
   "metadata": {},
   "outputs": [],
   "source": [
    "# train[train['사고원인'].str.contains('단순과실', na=False)][['사고원인', '재발방지대책 및 향후조치계획']]"
   ]
  },
  {
   "cell_type": "code",
   "execution_count": 9,
   "id": "91a18c16",
   "metadata": {},
   "outputs": [
    {
     "data": {
      "text/plain": [
       "ID                 0\n",
       "발생일시               0\n",
       "사고인지 시간            0\n",
       "날씨                 0\n",
       "기온                 0\n",
       "습도                 0\n",
       "공사종류               0\n",
       "연면적                0\n",
       "층 정보               0\n",
       "인적사고               0\n",
       "물적사고               0\n",
       "공종                 0\n",
       "사고객체               0\n",
       "작업프로세스             0\n",
       "장소                 0\n",
       "부위                 0\n",
       "사고원인               0\n",
       "재발방지대책 및 향후조치계획    0\n",
       "공사종류(대분류)          0\n",
       "공사종류(중분류)          1\n",
       "공종(대분류)            0\n",
       "공종(중분류)            0\n",
       "사고객체(대분류)          0\n",
       "사고객체(중분류)          0\n",
       "dtype: int64"
      ]
     },
     "execution_count": 9,
     "metadata": {},
     "output_type": "execute_result"
    }
   ],
   "source": [
    "train.isnull().sum()"
   ]
  },
  {
   "cell_type": "code",
   "execution_count": 10,
   "id": "7a3744c3",
   "metadata": {},
   "outputs": [
    {
     "data": {
      "text/plain": [
       "Index(['ID', '발생일시', '사고인지 시간', '날씨', '기온', '습도', '공사종류', '연면적', '층 정보',\n",
       "       '인적사고', '물적사고', '공종', '사고객체', '작업프로세스', '장소', '부위', '사고원인',\n",
       "       '재발방지대책 및 향후조치계획', '공사종류(대분류)', '공사종류(중분류)', '공종(대분류)', '공종(중분류)',\n",
       "       '사고객체(대분류)', '사고객체(중분류)'],\n",
       "      dtype='object')"
      ]
     },
     "execution_count": 10,
     "metadata": {},
     "output_type": "execute_result"
    }
   ],
   "source": [
    "train.columns"
   ]
  },
  {
   "cell_type": "code",
   "execution_count": null,
   "id": "da57db71",
   "metadata": {},
   "outputs": [],
   "source": [
    "combined_training_data = df.apply(\n",
    "    lambda row: {\n",
    "        \"question\": (\n",
    "            f\"'{row['공사종류']}' 공사 중 '{row['공종']}' 작업을 수행하던 중 \"\n",
    "            f\"'{row['사고객체']}'와 관련된 사고가 발생했습니다. \"\n",
    "            f\"사고는 '{row['작업프로세스']}' 중에 발생했으며, \"\n",
    "            f\"그 원인은 '{row['사고원인']}'입니다. \"\n",
    "            f\"이 사고의 재발을 방지하고 향후 조치를 계획하기 위해 필요한 방안은 무엇인가요?\"\n",
    "        ),\n",
    "        \"answer\": row[\"재발방지대책 및 향후조치계획\"]\n",
    "    },\n",
    "    axis=1\n",
    ")\n"
   ]
  },
  {
   "cell_type": "code",
   "execution_count": null,
   "id": "90e51bca-0c93-4412-9634-9f86ea9a36ef",
   "metadata": {},
   "outputs": [],
   "source": [
    "# 훈련 데이터 통합 생성\n",
    "combined_training_data = train.apply(\n",
    "    lambda row: {\n",
    "        \"question\": (\n",
    "            f\"공사종류 대분류 '{row['공사종류(대분류)']}', 중분류 '{row['공사종류(중분류)']}' 공사 중 \"\n",
    "            f\"공종 대분류 '{row['공종(대분류)']}', 중분류 '{row['공종(중분류)']}' 작업에서 \"\n",
    "            f\"사고객체 '{row['사고객체(대분류)']}'(중분류: '{row['사고객체(중분류)']}')와 관련된 사고가 발생했습니다. \"\n",
    "            f\"작업 프로세스는 '{row['작업프로세스']}'이며, 사고 원인은 '{row['사고원인']}'입니다. \"\n",
    "            f\"재발 방지 대책 및 향후 조치 계획은 무엇인가요?\"\n",
    "        ),\n",
    "        \"answer\": row[\"재발방지대책 및 향후조치계획\"]\n",
    "    },\n",
    "    axis=1\n",
    ")\n",
    "\n",
    "# DataFrame으로 변환\n",
    "combined_training_data = pd.DataFrame(list(combined_training_data))"
   ]
  },
  {
   "cell_type": "code",
   "execution_count": null,
   "id": "cbf53249-8aae-4308-a476-4200814da53d",
   "metadata": {
    "scrolled": true
   },
   "outputs": [],
   "source": [
    "# 테스트 데이터 통합 생성\n",
    "combined_test_data = test.apply(\n",
    "    lambda row: {\n",
    "        \"question\": (\n",
    "            f\"공사종류 대분류 '{row['공사종류(대분류)']}', 중분류 '{row['공사종류(중분류)']}' 공사 중 \"\n",
    "            f\"공종 대분류 '{row['공종(대분류)']}', 중분류 '{row['공종(중분류)']}' 작업에서 \"\n",
    "            f\"사고객체 '{row['사고객체(대분류)']}'(중분류: '{row['사고객체(중분류)']}')와 관련된 사고가 발생했습니다. \"\n",
    "            f\"작업 프로세스는 '{row['작업프로세스']}'이며, 사고 원인은 '{row['사고원인']}'입니다. \"\n",
    "            f\"재발 방지 대책 및 향후 조치 계획은 무엇인가요?\"\n",
    "        )\n",
    "    },\n",
    "    axis=1\n",
    ")\n",
    "\n",
    "# DataFrame으로 변환\n",
    "combined_test_data = pd.DataFrame(list(combined_test_data))"
   ]
  },
  {
   "cell_type": "code",
   "execution_count": null,
   "id": "49ff7bde",
   "metadata": {},
   "outputs": [
    {
     "name": "stdout",
     "output_type": "stream",
     "text": [
      "['F.C.M 교량공사 안전보건작업 지침.txt', 'I.L.M 교량공사 안전보건작업 지침.txt', 'PCT거더 교량공사 안전보건작업지침.txt', '가공송전선로 철탑 심형기초공사 안전보건작업 지침.txt', '가설계단 설치 및 사용 안전보건작업 지침.txt', '가설구조물의 설계변경 요청 내용, 절차 등에 관한 작성지침.txt', '강관비계 안전작업지침.txt', '강박스거더 교량공사 안전보건작업 지침.txt', '강아치교(벤트공법) 안전보건작업지침.txt', '갱폼(Gang form) 제작 및 사용안전 지침.txt', '건설공사 굴착면 안전기울기 기준에 관한 기술지침.txt', '건설공사 돌관작업 안전보건작업 지침.txt', '건설공사 안전보건 설계 지침.txt', '건설공사의 고소작업대 안전보건작업지침.txt', '건설기계 안전보건작업 지침.txt', '건설현장 용접용단 안전보건작업 기술지침.txt', '건설현장의 중량물 취급 작업계획서(이동식크레인) 작성지침.txt', '건축물의 석공사(내외장) 안전보건작업 기술지침.txt', '경량철골 천장공사 안전보건작업 지침.txt', '곤돌라(Gondola) 안전보건작업 지침.txt', '관로매설공사 안전보건작업 기술지침.txt', '관로매설공사(유압식 추진공법) 안전보건작업 지침.txt', '교량 슬래브거푸집 해체용 작업대차 안전작업 지침.txt', '교량공사(P.S.M공법) 안전작업 지침.txt', '교량공사(라멘교) 안전보건작업지침.txt', '교량공사의 이동식 비계공법(MSS) 안전작업 지침.txt', '굴착공사 계측관리 기술지침.txt', '굴착공사 안전작업 지침.txt', '굴착기 안전보건작업 지침.txt', '금속 커튼월(Curtain wall) 안전작업 지침.txt', '기성 콘크리트 파일 항타 안전보건작업 지침.txt', '낙하물 방지망 설치 지침.txt', '낙하물 방호선반 설치 지침.txt', '내장공사의 안전보건작업 지침.txt', '냉동냉장 물류창고 단열공사 화재예방 안전보건작업 지침.txt', '단순 슬래브 콘크리트 타설 안전보건작업 지침.txt', '덤프트럭 및 화물자동차 안전작업지침.txt', '리모델링 안전보건작업 기술지침.txt', '미장공사 안전보건작업 지침.txt', '밀폐공간의 방수공사 안전보건작업 지침.txt', '발파공사 안전보건작업 지침.txt', '블록식 보강토 옹벽 공사 안전보건작업 지침.txt', '사장교 교량공사 안전보건작업 지침.txt', '소규모 철근콘크리트 교량공사 거푸집 동바리 안전작업 지침.txt', '수상 바지(Barge)선 이용 건설공사 안전작업 지침.txt', '수직보호망 설치 지침.txt', '수직형 추락방망 설치 기술지침.txt', '슬립폼(Slip form) 안전작업 지침.txt', '시스템 동바리 안전작업 지침.txt', '시스템 비계 안전작업 지침.txt', '시스템폼(RCS폼,ACS폼 중심) 안전작업 지침.txt', '시트(Sheet)방수 안전보건작업 지침.txt', '아스팔트콘크리트 포장공사 안전보건작업 지침.txt', '안전대 사용지침.txt', '야간 건설공사 안전보건작업 지침.txt', '옹벽(콘크리트 옹벽)공사의 안전보건작업지침.txt', '우물통기초 안전보건 작업지침.txt', '이동식 비계 설치 및 사용안전 기술지침.txt', '이동식 크레인 안전보건작업 지침.txt', '이동식 크레인 양중작업의 안정성 검토 지침.txt', '작업발판 설치 및 사용안전 지침.txt', '작업의자형 달비계 안전작업 지침.txt', '재사용 가설기자재 성능기준에 관한 지침.txt', '조경공사(수목식재작업) 안전보건작업지침.txt', '조적공사 안전보건작업 기술지침.txt', '중소규모 건설업체 본사의 안전보건관리에 관한 지침.txt', '중소규모 관로공사의 안전보건작업지침.txt', '지붕공사 안전보건작업 기술지침.txt', '지하매설물 굴착공사 안전작업 지침.txt', '철골공사 무지보 거푸집동바리(데크플레이트 공법)안전보건작업 지침.txt', '철골공사 안전보건작업 지침.txt', '철탑공사 안전보건기술지침.txt', '초고층 건축물공사(일반사항) 안전보건작업지침.txt', '초고층 건축물공사(화재예방) 안전보건작업지침.txt', '추락방호망 설치 지침.txt', '취약시기 건설현장 안전작업지침.txt', '콘크리트공사의 안전보건작업 지침.txt', '타워크레인 설치, 조립, 해체 작업계획서 작성지침.txt', '타일(Tile) 공사 안전보건작업 지침.txt', '탑다운(Top down) 공법 안전작업 지침.txt', '터널공사(NATM공법) 안전보건작업 지침.txt', '터널공사(NTR공법) 안전보건작업지침.txt', '터널공사(Shield-T.B.M공법) 안전보건작업 지침.txt', '터널공사(침매공법) 안전보건작업지침.txt', '터널공사(프론트잭킹) 안전보건작업지침.txt', '트러스거더 교량공사 안전보건작업지침.txt', '트럭 탑재형 크레인(Cago crane) 안전보건작업지침.txt', '파이프 서포트 동바리 안전작업 지침.txt', '프리스트레스트 콘크리트(PSC) 교량공사 안전작업 지침.txt', '프리캐스트 콘크리트 건축구조물 조립 안전보건작업 지침.txt', '항타기, 항발기 사용 작업계획서 작성지침.txt', '해상 RCD 현장타설 말뚝공사(현수교, 사장교) 안전작업 지침.txt', '해체공사 안전보건작업 기술지침.txt', '현수교 교량공사 안전보건작업 지침.txt', '현수교 주탑시공 안전보건작업지침.txt', '화학플랜트 개보수 공사 안전보건작업 기술지침.txt', '흙막이공사 (SCW 공법) 안전보건작업지침.txt', '흙막이공사(C.I.P공법) 안전보건작업 지침.txt', '흙막이공사(Earth Anchor 공법) 안전보건작업 지침.txt', '흙막이공사(Soil Nailing 공법) 안전보건작업 지침.txt', '흙막이공사(강널말뚝, Sheet Pile)의 안전보건작업지침.txt', '흙막이공사(띠장긴장공법, Prestressed Wale Method) 안전보건 작업지침.txt', '흙막이공사(엄지말뚝 공법) 안전보건작업 지침.txt', '흙막이공사(지하연속벽) 안전보건작업 지침.txt']\n"
     ]
    }
   ],
   "source": [
    "import glob\n",
    "import os\n",
    "\n",
    "text_path = \"C:/wanted/Git_project/DACON-construction-accident-prevention/data/text_output\"\n",
    "\n",
    "# 해당 디렉토리의 모든 .txt 파일 찾기\n",
    "txt_files = glob.glob(os.path.join(text_path, \"*.txt\"))\n",
    "\n",
    "# 파일명만 추출 (확장자 포함)\n",
    "file_names = [os.path.basename(file) for file in txt_files]\n",
    "\n",
    "file_names  # ['example1.txt', 'notes.txt', 'report.txt']\n"
   ]
  },
  {
   "cell_type": "code",
   "execution_count": null,
   "id": "81bf5029",
   "metadata": {},
   "outputs": [],
   "source": [
    "import re\n",
    "import os\n",
    "from langchain_core.documents import Document\n",
    "\n",
    "# 섹션 제목을 추출하는 함수\n",
    "def extract_section(text):\n",
    "    \"\"\"\n",
    "    문서 내에서 '1. 제목'과 같은 형식의 섹션을 찾는 함수.\n",
    "    가장 먼저 등장하는 섹션을 반환하며, 없으면 'Unknown' 반환.\n",
    "    \"\"\"\n",
    "    pattern = r\"^\\s*(\\d+)\\.\\s*(.+)\"  # '1. 제목' 또는 ' 1. 제목' 같은 패턴 탐색\n",
    "    for line in text.split(\"\\n\"):  # 줄 단위로 검색\n",
    "        match = re.match(pattern, line)\n",
    "        if match:\n",
    "            return match.group(2).strip()  # 숫자 다음에 오는 제목 부분만 반환\n",
    "    return \"Unknown\"  # 해당하는 패턴이 없을 경우 기본값 반환\n",
    "\n",
    "# 메타데이터 변환 함수\n",
    "def custom_metadata(doc):\n",
    "    metadata = doc.metadata  # 기존 메타데이터 가져오기\n",
    "    text = doc.page_content  # 문서의 실제 내용 가져오기\n",
    "    \n",
    "    new_metadata = {\n",
    "        \"title\": os.path.basename(metadata.get(\"source\", \"Unknown\")),  # 파일 이름만 저장\n",
    "        \"page\": metadata.get(\"page\", 0) + 1,  # ✅ 페이지 번호를 1부터 시작하도록 수정\n",
    "        \"section\": extract_section(text)  # ✅ 문서 내용에서 섹션 제목 추출\n",
    "    }\n",
    "    \n",
    "    doc.metadata = new_metadata  # 기존 문서의 메타데이터 수정\n",
    "    return doc\n",
    "\n",
    "# 모든 문서의 메타데이터 변환 적용\n",
    "documents = [custom_metadata(doc) for doc in split_documents]\n",
    "\n",
    "# 결과 확인 (2개 출력)\n",
    "for doc in documents[0:]:  \n",
    "    print(doc.metadata)"
   ]
  },
  {
   "cell_type": "code",
   "execution_count": null,
   "id": "7b162ee7",
   "metadata": {},
   "outputs": [],
   "source": []
  }
 ],
 "metadata": {
  "kernelspec": {
   "display_name": "env311_cu121",
   "language": "python",
   "name": "python3"
  },
  "language_info": {
   "codemirror_mode": {
    "name": "ipython",
    "version": 3
   },
   "file_extension": ".py",
   "mimetype": "text/x-python",
   "name": "python",
   "nbconvert_exporter": "python",
   "pygments_lexer": "ipython3",
   "version": "3.11.11"
  }
 },
 "nbformat": 4,
 "nbformat_minor": 5
}
