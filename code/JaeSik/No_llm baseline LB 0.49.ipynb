{
 "cells": [
  {
   "cell_type": "code",
   "execution_count": 1,
   "metadata": {},
   "outputs": [
    {
     "name": "stderr",
     "output_type": "stream",
     "text": [
      "/home/redix/hansol/.venv/lib/python3.10/site-packages/tqdm/auto.py:21: TqdmWarning: IProgress not found. Please update jupyter and ipywidgets. See https://ipywidgets.readthedocs.io/en/stable/user_install.html\n",
      "  from .autonotebook import tqdm as notebook_tqdm\n"
     ]
    }
   ],
   "source": [
    "import pandas as pd \n",
    "import numpy as np \n",
    "\n",
    "from sklearn.metrics.pairwise import cosine_similarity\n",
    "from tqdm.auto import tqdm"
   ]
  },
  {
   "cell_type": "code",
   "execution_count": 2,
   "metadata": {},
   "outputs": [
    {
     "name": "stderr",
     "output_type": "stream",
     "text": [
      "/home/redix/hansol/.venv/lib/python3.10/site-packages/sentence_transformers/SentenceTransformer.py:195: FutureWarning: The `use_auth_token` argument is deprecated and will be removed in v4 of SentenceTransformers.\n",
      "  warnings.warn(\n"
     ]
    }
   ],
   "source": [
    "from sentence_transformers import SentenceTransformer\n",
    "\n",
    "# Embedding Vector 추출에 활용할 모델(jhgan/ko-sbert-sts) 불러오기\n",
    "model = SentenceTransformer('jhgan/ko-sbert-sts', use_auth_token=False)"
   ]
  },
  {
   "cell_type": "code",
   "execution_count": 3,
   "metadata": {},
   "outputs": [],
   "source": [
    "train = pd.read_csv(\"train.csv\")\n",
    "test = pd.read_csv(\"test.csv\")\n",
    "sample = pd.read_csv(\"sample_submission.csv\")"
   ]
  },
  {
   "cell_type": "code",
   "execution_count": 4,
   "metadata": {},
   "outputs": [],
   "source": [
    "grouped = train.groupby(\"인적사고\")"
   ]
  },
  {
   "cell_type": "code",
   "execution_count": 5,
   "metadata": {},
   "outputs": [
    {
     "name": "stderr",
     "output_type": "stream",
     "text": [
      "  0%|          | 0/23 [00:00<?, ?it/s]"
     ]
    },
    {
     "name": "stderr",
     "output_type": "stream",
     "text": [
      "100%|██████████| 23/23 [03:10<00:00,  8.30s/it]\n"
     ]
    }
   ],
   "source": [
    "res = {}\n",
    "cosine_res = []\n",
    "for name, group in tqdm(grouped):\n",
    "    plan = group[\"재발방지대책 및 향후조치계획\"]\n",
    "    vectors = np.stack(plan.apply(model.encode).to_numpy())\n",
    "    similarity = cosine_similarity(vectors, vectors)    \n",
    "    cosine_res += similarity[similarity.mean(axis=1).argmax()].tolist()\n",
    "    res[name] = plan.iloc[similarity.mean(axis=1).argmax()]"
   ]
  },
  {
   "cell_type": "code",
   "execution_count": 6,
   "metadata": {},
   "outputs": [
    {
     "name": "stdout",
     "output_type": "stream",
     "text": [
      "Range 0.0 - 0.1: 1개\n",
      "Range 0.1 - 0.2: 25개\n",
      "Range 0.2 - 0.3: 191개\n",
      "Range 0.3 - 0.4: 665개\n",
      "Range 0.4 - 0.5: 1657개\n",
      "Range 0.5 - 0.6: 3794개\n",
      "Range 0.6 - 0.7: 6597개\n",
      "Range 0.7 - 0.8: 7557개\n",
      "Range 0.8 - 0.9: 2783개\n",
      "Range 0.9 - 1.0: 113개\n"
     ]
    }
   ],
   "source": [
    "arr = cosine_res\n",
    "\n",
    "# 0.1 단위로 구간을 지정\n",
    "bins = np.arange(0, 1.1, 0.1)  # 0.0 ~ 1.0을 0.1 간격으로 나눔\n",
    "\n",
    "# 히스토그램 계산\n",
    "hist, bin_edges = np.histogram(arr, bins=bins)\n",
    "\n",
    "# 결과 출력\n",
    "for i in range(len(hist)):\n",
    "    print(f\"Range {bin_edges[i]:.1f} - {bin_edges[i+1]:.1f}: {hist[i]}개\")\n"
   ]
  },
  {
   "cell_type": "code",
   "execution_count": 10,
   "metadata": {},
   "outputs": [
    {
     "data": {
      "text/plain": [
       "{'감전': '작업자 교육 및 안전장구 착용 철저와 전기작업자 교육 및 피복관리 철저를 통한 재발 방지 대책.',\n",
       " '교통사고': '작업업 특별 안전 교육 실시, 신호수 교육 실시, 작업차량 후방 감지 센서 및 카메라 설치, 수시 위험성 평가 실시, 감독관 주체 특별 안전 교육 실시, 현장 점검 시 신호수 위치 점검 등으로 구성된 재발 방지 대책 및 향후 조치 계획.',\n",
       " '기타': '작업전 안전교육 및 특별안전교육 실시와 안전관리 및 안전교육 철저를 통한 재발 방지 대책.',\n",
       " '깔림': '작업 개시 전 작업내용 숙지 및 안전교육 강화, 수시 현장 방문 및 점검을 통한 재발 방지 대책 강구.',\n",
       " '끼임': '작업전 작업자 안전교육 강화, 안전수칙 준수 특별안전교육 실시, 작업지휘자 관리감독 철저에 대한 재발 방지 대책과 향후 조치 계획.',\n",
       " '넘어짐(기타)': '작업전 안전교육 실시와 안전관리자 안전점검 실시를 통한 재발 방지 대책 및 향후 조치 계획.',\n",
       " '넘어짐(물체에 걸림)': '작업전 안전교육 강화 및 작업장 위험요소 점검을 통한 재발 방지와 안전관리 교육 철저를 통한 향후 조치 계획.',\n",
       " '넘어짐(미끄러짐)': '이동통로 확보 관리와 작업 전 안전교육 철저 및 정기적 근로자 안전교육 시행을 통한 재발 방지 대책.',\n",
       " '떨어짐(10미터 이상)': '안전시설물 설치와 체계적인 안전교육 실시를 통한 재발 방지 대책 및 공사현장 작업중지명령과 안전교육 강화를 포함한 향후 조치 계획.',\n",
       " '떨어짐(2미터 미만)': '안전교육 실시와 현장 내 작업지시사항 철저 이행, 안전관리 교육 이행, 안전위험요소 제거 점검 및 대책 강구를 통한 재발 방지 대책.',\n",
       " '떨어짐(2미터 이상 ~ 3미터 미만)': '작업 전 안전교육 철저와 안전고리 이중결속 준수, 작업 중 안전시설물 확인 및 사고자 상태 수시 체크를 통한 재발 방지 대책 마련.',\n",
       " '떨어짐(3미터 이상 ~ 5미터 미만)': '작업 시 안전교육 및 보호구 착용과 안전매트 설치를 통한 재발 방지 대책 및 향후 조치 계획.',\n",
       " '떨어짐(5미터 이상 ~ 10미터 미만)': '작업자 안전교육 실시와 작업 위험구간 안전조치 철저, 안전점검 및 안전조치 여부 전수 확인을 통한 유사사고 예방.',\n",
       " '떨어짐(분류불능)': '작업전 안전교육 실시, 안전시설 재점검, 안전장구류 착용 철저 등의 재발 방지 대책과 향후 조치 계획.',\n",
       " '물체에 맞음': '작업 전 안전교육 실시와 안전점검 철저 지시를 통한 재발 방지 대책 마련.',\n",
       " '부딪힘': '작업전 안전교육 철저와 작업중 위험요인 파악 및 제거를 통한 재발 방지 대책 및 향후 조치 계획.',\n",
       " '분류불능': '작업 전 작업방법 및 안전교육 실시와 철저한 현장관리가 포함된 재발 방지 대책 및 향후 조치 계획.',\n",
       " '없음': '작업자 특별교육 실시 및 현장 내 화재예방 점검을 통한 재발 방지 대책과 구조안전진단 결과 확인 후 관련 공사 진행 예정.',\n",
       " '절단, 베임': '작업전 안전교육 실시, 작업수칙 준수, 기계공구류 안전장치 확인을 통한 재발 방지 대책 및 향후 조치 계획.',\n",
       " '질병': '근로자 건강상태 확인, 근골격계 질환 예방 스트레칭 상시 실시와 작업 전 안전교육 철저 및 준비운동 실시를 통한 재발 방지 대책.',\n",
       " '질식': '작업자 안전교육 강화를 통한 재발 방지 대책 및 향후 조치 계획.',\n",
       " '찔림': '작업 투입 전 안전교육 강화를 통한 재발 방지 대책과 현장 관리감독자의 수시 작업 환경 점검 실시 계획.',\n",
       " '화상': '화기 및 위험 작업자 특별 안전교육 실시, 작업 전 위험성 평가 후 안전대책 수립 및 이행 상태 확인, 작업발판 고정 및 안전시설 점검 철저에 대한 재발 방지 대책 접수.'}"
      ]
     },
     "execution_count": 10,
     "metadata": {},
     "output_type": "execute_result"
    }
   ],
   "source": [
    "res"
   ]
  },
  {
   "cell_type": "code",
   "execution_count": 12,
   "metadata": {},
   "outputs": [],
   "source": [
    "res_v = {}\n",
    "for k,v in res.items():\n",
    "    res_v[k] = model.encode(v)"
   ]
  },
  {
   "cell_type": "code",
   "execution_count": 15,
   "metadata": {},
   "outputs": [
    {
     "data": {
      "text/html": [
       "<div>\n",
       "<style scoped>\n",
       "    .dataframe tbody tr th:only-of-type {\n",
       "        vertical-align: middle;\n",
       "    }\n",
       "\n",
       "    .dataframe tbody tr th {\n",
       "        vertical-align: top;\n",
       "    }\n",
       "\n",
       "    .dataframe thead th {\n",
       "        text-align: right;\n",
       "    }\n",
       "</style>\n",
       "<table border=\"1\" class=\"dataframe\">\n",
       "  <thead>\n",
       "    <tr style=\"text-align: right;\">\n",
       "      <th></th>\n",
       "      <th>ID</th>\n",
       "      <th>재발방지대책 및 향후조치계획</th>\n",
       "      <th>vec_0</th>\n",
       "      <th>vec_1</th>\n",
       "      <th>vec_2</th>\n",
       "      <th>vec_3</th>\n",
       "      <th>vec_4</th>\n",
       "      <th>vec_5</th>\n",
       "      <th>vec_6</th>\n",
       "      <th>vec_7</th>\n",
       "      <th>...</th>\n",
       "      <th>vec_758</th>\n",
       "      <th>vec_759</th>\n",
       "      <th>vec_760</th>\n",
       "      <th>vec_761</th>\n",
       "      <th>vec_762</th>\n",
       "      <th>vec_763</th>\n",
       "      <th>vec_764</th>\n",
       "      <th>vec_765</th>\n",
       "      <th>vec_766</th>\n",
       "      <th>vec_767</th>\n",
       "    </tr>\n",
       "  </thead>\n",
       "  <tbody>\n",
       "    <tr>\n",
       "      <th>0</th>\n",
       "      <td>TEST_000</td>\n",
       "      <td>안전교육 실시</td>\n",
       "      <td>-0.620284</td>\n",
       "      <td>-0.377644</td>\n",
       "      <td>-0.321682</td>\n",
       "      <td>0.148727</td>\n",
       "      <td>-0.193202</td>\n",
       "      <td>0.662165</td>\n",
       "      <td>1.092194</td>\n",
       "      <td>-0.043897</td>\n",
       "      <td>...</td>\n",
       "      <td>1.336321</td>\n",
       "      <td>0.882164</td>\n",
       "      <td>1.780816</td>\n",
       "      <td>2.430824</td>\n",
       "      <td>0.801544</td>\n",
       "      <td>0.016859</td>\n",
       "      <td>-0.152427</td>\n",
       "      <td>0.243186</td>\n",
       "      <td>0.267703</td>\n",
       "      <td>0.109774</td>\n",
       "    </tr>\n",
       "    <tr>\n",
       "      <th>1</th>\n",
       "      <td>TEST_001</td>\n",
       "      <td>안전교육 실시</td>\n",
       "      <td>-0.620284</td>\n",
       "      <td>-0.377644</td>\n",
       "      <td>-0.321682</td>\n",
       "      <td>0.148727</td>\n",
       "      <td>-0.193202</td>\n",
       "      <td>0.662165</td>\n",
       "      <td>1.092194</td>\n",
       "      <td>-0.043897</td>\n",
       "      <td>...</td>\n",
       "      <td>1.336321</td>\n",
       "      <td>0.882164</td>\n",
       "      <td>1.780816</td>\n",
       "      <td>2.430824</td>\n",
       "      <td>0.801544</td>\n",
       "      <td>0.016859</td>\n",
       "      <td>-0.152427</td>\n",
       "      <td>0.243186</td>\n",
       "      <td>0.267703</td>\n",
       "      <td>0.109774</td>\n",
       "    </tr>\n",
       "    <tr>\n",
       "      <th>2</th>\n",
       "      <td>TEST_002</td>\n",
       "      <td>안전교육 실시</td>\n",
       "      <td>-0.620284</td>\n",
       "      <td>-0.377644</td>\n",
       "      <td>-0.321682</td>\n",
       "      <td>0.148727</td>\n",
       "      <td>-0.193202</td>\n",
       "      <td>0.662165</td>\n",
       "      <td>1.092194</td>\n",
       "      <td>-0.043897</td>\n",
       "      <td>...</td>\n",
       "      <td>1.336321</td>\n",
       "      <td>0.882164</td>\n",
       "      <td>1.780816</td>\n",
       "      <td>2.430824</td>\n",
       "      <td>0.801544</td>\n",
       "      <td>0.016859</td>\n",
       "      <td>-0.152427</td>\n",
       "      <td>0.243186</td>\n",
       "      <td>0.267703</td>\n",
       "      <td>0.109774</td>\n",
       "    </tr>\n",
       "  </tbody>\n",
       "</table>\n",
       "<p>3 rows × 770 columns</p>\n",
       "</div>"
      ],
      "text/plain": [
       "         ID 재발방지대책 및 향후조치계획     vec_0     vec_1     vec_2     vec_3     vec_4  \\\n",
       "0  TEST_000         안전교육 실시 -0.620284 -0.377644 -0.321682  0.148727 -0.193202   \n",
       "1  TEST_001         안전교육 실시 -0.620284 -0.377644 -0.321682  0.148727 -0.193202   \n",
       "2  TEST_002         안전교육 실시 -0.620284 -0.377644 -0.321682  0.148727 -0.193202   \n",
       "\n",
       "      vec_5     vec_6     vec_7  ...   vec_758   vec_759   vec_760   vec_761  \\\n",
       "0  0.662165  1.092194 -0.043897  ...  1.336321  0.882164  1.780816  2.430824   \n",
       "1  0.662165  1.092194 -0.043897  ...  1.336321  0.882164  1.780816  2.430824   \n",
       "2  0.662165  1.092194 -0.043897  ...  1.336321  0.882164  1.780816  2.430824   \n",
       "\n",
       "    vec_762   vec_763   vec_764   vec_765   vec_766   vec_767  \n",
       "0  0.801544  0.016859 -0.152427  0.243186  0.267703  0.109774  \n",
       "1  0.801544  0.016859 -0.152427  0.243186  0.267703  0.109774  \n",
       "2  0.801544  0.016859 -0.152427  0.243186  0.267703  0.109774  \n",
       "\n",
       "[3 rows x 770 columns]"
      ]
     },
     "execution_count": 15,
     "metadata": {},
     "output_type": "execute_result"
    }
   ],
   "source": [
    "sample.head(3)"
   ]
  },
  {
   "cell_type": "code",
   "execution_count": 21,
   "metadata": {},
   "outputs": [
    {
     "name": "stdout",
     "output_type": "stream",
     "text": [
      "<class 'pandas.core.frame.DataFrame'>\n",
      "RangeIndex: 964 entries, 0 to 963\n",
      "Columns: 770 entries, ID to vec_767\n",
      "dtypes: float64(768), object(2)\n",
      "memory usage: 5.7+ MB\n"
     ]
    }
   ],
   "source": [
    "sample.info()"
   ]
  },
  {
   "cell_type": "code",
   "execution_count": 22,
   "metadata": {},
   "outputs": [],
   "source": [
    "for i in range(len(test)):\n",
    "    accident = test.loc[i, \"인적사고\"]\n",
    "    sample.loc[i, \"재발방지대책 및 향후조치계획\"] = res[accident]\n",
    "    sample.iloc[i, 2:] = res_v[accident]"
   ]
  },
  {
   "cell_type": "code",
   "execution_count": 24,
   "metadata": {},
   "outputs": [
    {
     "name": "stdout",
     "output_type": "stream",
     "text": [
      "<class 'pandas.core.frame.DataFrame'>\n",
      "RangeIndex: 964 entries, 0 to 963\n",
      "Columns: 770 entries, ID to vec_767\n",
      "dtypes: float64(768), object(2)\n",
      "memory usage: 5.7+ MB\n"
     ]
    }
   ],
   "source": [
    "sample.info()"
   ]
  },
  {
   "cell_type": "code",
   "execution_count": 25,
   "metadata": {},
   "outputs": [],
   "source": [
    "sample.to_csv(\"baseline.csv\", index=False, encoding='utf-8-sig')"
   ]
  },
  {
   "cell_type": "code",
   "execution_count": null,
   "metadata": {},
   "outputs": [],
   "source": []
  }
 ],
 "metadata": {
  "kernelspec": {
   "display_name": ".venv",
   "language": "python",
   "name": "python3"
  },
  "language_info": {
   "codemirror_mode": {
    "name": "ipython",
    "version": 3
   },
   "file_extension": ".py",
   "mimetype": "text/x-python",
   "name": "python",
   "nbconvert_exporter": "python",
   "pygments_lexer": "ipython3",
   "version": "3.12.9"
  }
 },
 "nbformat": 4,
 "nbformat_minor": 2
}
